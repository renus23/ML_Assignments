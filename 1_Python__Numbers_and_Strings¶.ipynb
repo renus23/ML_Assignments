{
  "nbformat": 4,
  "nbformat_minor": 0,
  "metadata": {
    "colab": {
      "provenance": [],
      "authorship_tag": "ABX9TyNN0LKWBJdPOg2ap8MZOUhz"
    },
    "kernelspec": {
      "name": "python3",
      "display_name": "Python 3"
    },
    "language_info": {
      "name": "python"
    }
  },
  "cells": [
    {
      "cell_type": "markdown",
      "source": [
        "Comments in Python start with the hash character, #, and extend to the end of the physical line. A comment may appear at the start of a line or following whitespace or code, but not within a string literal. A hash character within a string literal is just a hash character."
      ],
      "metadata": {
        "id": "H3BLkSVPGhH4"
      }
    },
    {
      "cell_type": "code",
      "execution_count": null,
      "metadata": {
        "id": "Mk-vvONsFxIQ",
        "colab": {
          "base_uri": "https://localhost:8080/"
        },
        "outputId": "2bb8c758-5d87-44b2-f0fd-c056f9c92a67"
      },
      "outputs": [
        {
          "output_type": "execute_result",
          "data": {
            "text/plain": [
              "1"
            ]
          },
          "metadata": {},
          "execution_count": 14
        }
      ],
      "source": [
        "# this is the first comment\n",
        "spam = 1  # and this is the second comment\n",
        "          # ... and now a third!\n",
        "\n",
        "spam"
      ]
    },
    {
      "cell_type": "code",
      "source": [
        "text = \"# This is not a comment because it's inside quotes.\"\n",
        "text"
      ],
      "metadata": {
        "colab": {
          "base_uri": "https://localhost:8080/",
          "height": 35
        },
        "id": "2blKpxPoFn9t",
        "outputId": "f24ed955-331c-4666-f73d-aaec2ecd06b7"
      },
      "execution_count": null,
      "outputs": [
        {
          "output_type": "execute_result",
          "data": {
            "text/plain": [
              "\"# This is not a comment because it's inside quotes.\""
            ],
            "application/vnd.google.colaboratory.intrinsic+json": {
              "type": "string"
            }
          },
          "metadata": {},
          "execution_count": 16
        }
      ]
    },
    {
      "cell_type": "markdown",
      "source": [
        "Using Python as a Calculator"
      ],
      "metadata": {
        "id": "hOG1Dz3BG4JO"
      }
    },
    {
      "cell_type": "markdown",
      "source": [
        "#Numbers"
      ],
      "metadata": {
        "id": "AesuADCw1Onp"
      }
    },
    {
      "cell_type": "code",
      "source": [
        "2+4\n"
      ],
      "metadata": {
        "id": "RkJ2h7Q0GdmY",
        "colab": {
          "base_uri": "https://localhost:8080/"
        },
        "outputId": "7a0d82d8-8ff4-4f53-c920-3a5c38f76552"
      },
      "execution_count": null,
      "outputs": [
        {
          "output_type": "execute_result",
          "data": {
            "text/plain": [
              "6"
            ]
          },
          "metadata": {},
          "execution_count": 1
        }
      ]
    },
    {
      "cell_type": "code",
      "source": [
        "36-(2*4)# parentheses (()) can be used for grouping"
      ],
      "metadata": {
        "id": "jCLe7qtuu2gz",
        "colab": {
          "base_uri": "https://localhost:8080/"
        },
        "outputId": "40f6db77-1f89-4bc1-8a3b-8655f78cd74f"
      },
      "execution_count": null,
      "outputs": [
        {
          "output_type": "execute_result",
          "data": {
            "text/plain": [
              "28"
            ]
          },
          "metadata": {},
          "execution_count": 4
        }
      ]
    },
    {
      "cell_type": "code",
      "source": [
        "34/6"
      ],
      "metadata": {
        "id": "YJnZLE3Uu5-C",
        "colab": {
          "base_uri": "https://localhost:8080/"
        },
        "outputId": "1197842d-d1d8-4423-a94e-95525c2fccdb"
      },
      "execution_count": null,
      "outputs": [
        {
          "output_type": "execute_result",
          "data": {
            "text/plain": [
              "5.666666666666667"
            ]
          },
          "metadata": {},
          "execution_count": 5
        }
      ]
    },
    {
      "cell_type": "code",
      "source": [
        "(50 - 5*6) / 4"
      ],
      "metadata": {
        "id": "4vwF7ZRxvHxO",
        "colab": {
          "base_uri": "https://localhost:8080/"
        },
        "outputId": "e4ba0565-1679-40ed-e722-5d43e04998ef"
      },
      "execution_count": null,
      "outputs": [
        {
          "output_type": "execute_result",
          "data": {
            "text/plain": [
              "5.0"
            ]
          },
          "metadata": {},
          "execution_count": 6
        }
      ]
    },
    {
      "cell_type": "code",
      "source": [
        "17 / 3  # classic division returns a float"
      ],
      "metadata": {
        "id": "AOcYKrjpvPTp",
        "colab": {
          "base_uri": "https://localhost:8080/"
        },
        "outputId": "a2977c30-70b6-42db-cede-6ab8ec573a2f"
      },
      "execution_count": null,
      "outputs": [
        {
          "output_type": "execute_result",
          "data": {
            "text/plain": [
              "5.666666666666667"
            ]
          },
          "metadata": {},
          "execution_count": 7
        }
      ]
    },
    {
      "cell_type": "code",
      "source": [
        "17 // 3  # floor division discards the fractional part"
      ],
      "metadata": {
        "id": "U2R3fwsewBub",
        "colab": {
          "base_uri": "https://localhost:8080/"
        },
        "outputId": "fe0d65f4-b053-4c02-a4d4-ec8e68cca449"
      },
      "execution_count": null,
      "outputs": [
        {
          "output_type": "execute_result",
          "data": {
            "text/plain": [
              "5"
            ]
          },
          "metadata": {},
          "execution_count": 8
        }
      ]
    },
    {
      "cell_type": "code",
      "source": [
        "17 % 3  # the % operator returns the remainder of the division"
      ],
      "metadata": {
        "id": "Z0IGGHDkwHtw",
        "colab": {
          "base_uri": "https://localhost:8080/"
        },
        "outputId": "afc816e7-4956-401e-c08c-dea3322a31bf"
      },
      "execution_count": null,
      "outputs": [
        {
          "output_type": "execute_result",
          "data": {
            "text/plain": [
              "2"
            ]
          },
          "metadata": {},
          "execution_count": 9
        }
      ]
    },
    {
      "cell_type": "code",
      "source": [
        "17//3 * (17%3) +2"
      ],
      "metadata": {
        "id": "j7rCJb8KwJA3",
        "colab": {
          "base_uri": "https://localhost:8080/"
        },
        "outputId": "119f1d1c-89d9-487f-9c0a-2455b499d57f"
      },
      "execution_count": null,
      "outputs": [
        {
          "output_type": "execute_result",
          "data": {
            "text/plain": [
              "12"
            ]
          },
          "metadata": {},
          "execution_count": 10
        }
      ]
    },
    {
      "cell_type": "code",
      "source": [
        "5**2 #use the ** operator to calculate powers"
      ],
      "metadata": {
        "id": "NeKpryKbwl_p",
        "colab": {
          "base_uri": "https://localhost:8080/"
        },
        "outputId": "5b2a29ef-b8bf-4862-940c-24b6c15a02fc"
      },
      "execution_count": null,
      "outputs": [
        {
          "output_type": "execute_result",
          "data": {
            "text/plain": [
              "25"
            ]
          },
          "metadata": {},
          "execution_count": 11
        }
      ]
    },
    {
      "cell_type": "code",
      "source": [
        "2 ** 7  # 2 to the power of 7"
      ],
      "metadata": {
        "id": "PszU3Z9_xsv7",
        "colab": {
          "base_uri": "https://localhost:8080/"
        },
        "outputId": "85e444aa-8c03-42f5-e07a-671fcc5d3348"
      },
      "execution_count": null,
      "outputs": [
        {
          "output_type": "execute_result",
          "data": {
            "text/plain": [
              "128"
            ]
          },
          "metadata": {},
          "execution_count": 12
        }
      ]
    },
    {
      "cell_type": "code",
      "source": [
        "width = 20  #The equal sign (=) is used to assign a value to a variable\n",
        "height = 5 * 9\n",
        "width * height"
      ],
      "metadata": {
        "id": "gZAFxE46xvCQ",
        "colab": {
          "base_uri": "https://localhost:8080/"
        },
        "outputId": "8f07f975-c272-4a20-aeb7-b95b66df13c6"
      },
      "execution_count": null,
      "outputs": [
        {
          "output_type": "execute_result",
          "data": {
            "text/plain": [
              "900"
            ]
          },
          "metadata": {},
          "execution_count": 23
        }
      ]
    },
    {
      "cell_type": "code",
      "source": [
        "n =5 # try to access an undefined variable"
      ],
      "metadata": {
        "id": "4vMudDXqyWRT"
      },
      "execution_count": null,
      "outputs": []
    },
    {
      "cell_type": "code",
      "source": [
        " 8 * 6.25 - 1     #operators with mixed type operands convert the integer operand to floating point:"
      ],
      "metadata": {
        "id": "CZFBSLyNykbh",
        "colab": {
          "base_uri": "https://localhost:8080/"
        },
        "outputId": "f17aec80-d2b2-454b-ac06-b74bb4aa009a"
      },
      "execution_count": null,
      "outputs": [
        {
          "output_type": "execute_result",
          "data": {
            "text/plain": [
              "49.0"
            ]
          },
          "metadata": {},
          "execution_count": 26
        }
      ]
    },
    {
      "cell_type": "markdown",
      "source": [
        "In interactive mode, the last printed expression is assigned to the variable _. This means that when you are using Python as a desk calculator, it is somewhat easier to continue calculations,"
      ],
      "metadata": {
        "id": "A__5Jy9UzgeW"
      }
    },
    {
      "cell_type": "code",
      "source": [
        "tax = 12.5 / 100\n",
        "price = 100.50\n",
        "price * tax"
      ],
      "metadata": {
        "id": "dgGJbEFfy5Z-",
        "colab": {
          "base_uri": "https://localhost:8080/"
        },
        "outputId": "045a9b18-0fae-4dc7-c98e-2686969aad54"
      },
      "execution_count": null,
      "outputs": [
        {
          "output_type": "execute_result",
          "data": {
            "text/plain": [
              "12.5625"
            ]
          },
          "metadata": {},
          "execution_count": 27
        }
      ]
    },
    {
      "cell_type": "code",
      "source": [
        "price + _  #"
      ],
      "metadata": {
        "id": "pP1eJV34zqyn",
        "colab": {
          "base_uri": "https://localhost:8080/"
        },
        "outputId": "922f765f-8f67-42e6-a8a9-58345f0ac120"
      },
      "execution_count": null,
      "outputs": [
        {
          "output_type": "execute_result",
          "data": {
            "text/plain": [
              "213.6"
            ]
          },
          "metadata": {},
          "execution_count": 32
        }
      ]
    },
    {
      "cell_type": "code",
      "source": [
        "round(_, 1)"
      ],
      "metadata": {
        "id": "0sKIKNcEzuEX",
        "colab": {
          "base_uri": "https://localhost:8080/"
        },
        "outputId": "76ca154e-e766-48bd-d58b-057631e4a05f"
      },
      "execution_count": null,
      "outputs": [
        {
          "output_type": "execute_result",
          "data": {
            "text/plain": [
              "113.1"
            ]
          },
          "metadata": {},
          "execution_count": 30
        }
      ]
    },
    {
      "cell_type": "markdown",
      "source": [
        "In addition to int and float, Python supports other types of numbers, such as Decimal and Fraction. Python also has built-in support for complex numbers (5+i6)"
      ],
      "metadata": {
        "id": "Mpi9IvIQ0MFV"
      }
    },
    {
      "cell_type": "markdown",
      "source": [
        "# Strings"
      ],
      "metadata": {
        "id": "jXGylL261KAT"
      }
    },
    {
      "cell_type": "markdown",
      "source": [
        "Python can also manipulate strings, which can be expressed in several ways. They can be enclosed in single quotes ('...') or double quotes (\"...\") with the same result. \\ can be used to escape quotes:"
      ],
      "metadata": {
        "id": "7FtoD_MK1lT8"
      }
    },
    {
      "cell_type": "code",
      "source": [
        "'Python class'"
      ],
      "metadata": {
        "id": "Zxx0KEshzwqf",
        "colab": {
          "base_uri": "https://localhost:8080/",
          "height": 35
        },
        "outputId": "3b4fec75-a91f-44a7-82a0-81a8b24f9492"
      },
      "execution_count": null,
      "outputs": [
        {
          "output_type": "execute_result",
          "data": {
            "text/plain": [
              "'Python class'"
            ],
            "application/vnd.google.colaboratory.intrinsic+json": {
              "type": "string"
            }
          },
          "metadata": {},
          "execution_count": 36
        }
      ]
    },
    {
      "cell_type": "code",
      "source": [
        "\"Python Class\""
      ],
      "metadata": {
        "id": "jwaDlI7c16LA",
        "colab": {
          "base_uri": "https://localhost:8080/",
          "height": 35
        },
        "outputId": "92eec53d-4048-4333-aa89-0910cd28126d"
      },
      "execution_count": null,
      "outputs": [
        {
          "output_type": "execute_result",
          "data": {
            "text/plain": [
              "'Python Class'"
            ],
            "application/vnd.google.colaboratory.intrinsic+json": {
              "type": "string"
            }
          },
          "metadata": {},
          "execution_count": 34
        }
      ]
    },
    {
      "cell_type": "code",
      "source": [
        "str1 = 'doesn\\'t'  # use \\' to escape the single quote..\n",
        "str1"
      ],
      "metadata": {
        "id": "ablWmai72Cz9",
        "colab": {
          "base_uri": "https://localhost:8080/",
          "height": 35
        },
        "outputId": "c9aea884-77a0-4a72-d229-2df2121d6554"
      },
      "execution_count": null,
      "outputs": [
        {
          "output_type": "execute_result",
          "data": {
            "text/plain": [
              "\"doesn't\""
            ],
            "application/vnd.google.colaboratory.intrinsic+json": {
              "type": "string"
            }
          },
          "metadata": {},
          "execution_count": 42
        }
      ]
    },
    {
      "cell_type": "code",
      "source": [
        "\"doesn't\"  # ...or use double quotes instead"
      ],
      "metadata": {
        "id": "ZUGqkt162KR9",
        "colab": {
          "base_uri": "https://localhost:8080/",
          "height": 35
        },
        "outputId": "7e40a4f9-7769-4e44-9b7d-9bfad874e6be"
      },
      "execution_count": null,
      "outputs": [
        {
          "output_type": "execute_result",
          "data": {
            "text/plain": [
              "\"doesn't\""
            ],
            "application/vnd.google.colaboratory.intrinsic+json": {
              "type": "string"
            }
          },
          "metadata": {},
          "execution_count": 43
        }
      ]
    },
    {
      "cell_type": "code",
      "source": [
        "'\"Yes\", They said'"
      ],
      "metadata": {
        "id": "J0lzrW2w3Fm7",
        "colab": {
          "base_uri": "https://localhost:8080/",
          "height": 35
        },
        "outputId": "ed698f4f-f35b-4437-91ec-8b08405e26bf"
      },
      "execution_count": null,
      "outputs": [
        {
          "output_type": "execute_result",
          "data": {
            "text/plain": [
              "'\"Yes\", They said'"
            ],
            "application/vnd.google.colaboratory.intrinsic+json": {
              "type": "string"
            }
          },
          "metadata": {},
          "execution_count": 44
        }
      ]
    },
    {
      "cell_type": "code",
      "source": [
        "'\\\"Yes\\\", They said'"
      ],
      "metadata": {
        "id": "fpR2WGEq3W6M",
        "colab": {
          "base_uri": "https://localhost:8080/",
          "height": 35
        },
        "outputId": "37853946-355e-458e-b724-3e1b9489c74d"
      },
      "execution_count": null,
      "outputs": [
        {
          "output_type": "execute_result",
          "data": {
            "text/plain": [
              "'\"Yes\", They said'"
            ],
            "application/vnd.google.colaboratory.intrinsic+json": {
              "type": "string"
            }
          },
          "metadata": {},
          "execution_count": 45
        }
      ]
    },
    {
      "cell_type": "code",
      "source": [
        "\"'Isn\\'t They said\""
      ],
      "metadata": {
        "id": "TNACAVPd3jUF",
        "colab": {
          "base_uri": "https://localhost:8080/",
          "height": 35
        },
        "outputId": "938970f8-1b86-431d-ba78-4375baf3f6ca"
      },
      "execution_count": null,
      "outputs": [
        {
          "output_type": "execute_result",
          "data": {
            "text/plain": [
              "\"'Isn't They said\""
            ],
            "application/vnd.google.colaboratory.intrinsic+json": {
              "type": "string"
            }
          },
          "metadata": {},
          "execution_count": 46
        }
      ]
    },
    {
      "cell_type": "code",
      "source": [
        "print('First line.\\n Second line.')  # \\n means newline"
      ],
      "metadata": {
        "id": "4aZiEDYA4RPd",
        "colab": {
          "base_uri": "https://localhost:8080/"
        },
        "outputId": "e8cf5440-31b4-4a27-cd8f-fbd203b2e082"
      },
      "execution_count": null,
      "outputs": [
        {
          "output_type": "stream",
          "name": "stdout",
          "text": [
            "First line.\n",
            " Second line.\n"
          ]
        }
      ]
    },
    {
      "cell_type": "code",
      "source": [
        "'First line.\\n Second line.'  # # without print(), \\n is included in the output"
      ],
      "metadata": {
        "id": "nZ3eFlbt4tC8",
        "colab": {
          "base_uri": "https://localhost:8080/",
          "height": 35
        },
        "outputId": "386bf83e-1453-495d-cdc1-3c872ed7e456"
      },
      "execution_count": null,
      "outputs": [
        {
          "output_type": "execute_result",
          "data": {
            "text/plain": [
              "'First line.\\n Second line.'"
            ],
            "application/vnd.google.colaboratory.intrinsic+json": {
              "type": "string"
            }
          },
          "metadata": {},
          "execution_count": 48
        }
      ]
    },
    {
      "cell_type": "code",
      "source": [
        "print('C:\\some\\name')  # here \\n means newline!"
      ],
      "metadata": {
        "id": "7mYcJu9v5mr0",
        "colab": {
          "base_uri": "https://localhost:8080/"
        },
        "outputId": "ef2590ef-030e-449a-8b53-5c26cb37f59f"
      },
      "execution_count": null,
      "outputs": [
        {
          "output_type": "stream",
          "name": "stdout",
          "text": [
            "C:\\some\n",
            "ame\n"
          ]
        }
      ]
    },
    {
      "cell_type": "markdown",
      "source": [
        "If you don’t want characters prefaced by \\ to be interpreted as special characters, you can use raw strings by adding an r before the first quote"
      ],
      "metadata": {
        "id": "99xLvpUs538T"
      }
    },
    {
      "cell_type": "code",
      "source": [
        "print(r'C:\\some\\name')  # note the r before the quote\n"
      ],
      "metadata": {
        "id": "GdjsZT1l53dJ",
        "colab": {
          "base_uri": "https://localhost:8080/"
        },
        "outputId": "50147b04-dace-43e3-adf7-d56e361dff3a"
      },
      "execution_count": null,
      "outputs": [
        {
          "output_type": "stream",
          "name": "stdout",
          "text": [
            "C:\\some\\name\n"
          ]
        }
      ]
    },
    {
      "cell_type": "markdown",
      "source": [
        "String literals can span multiple lines. One way is using triple-quotes: \"\"\"...\"\"\" or '''...'''"
      ],
      "metadata": {
        "id": "NYjAVkot7FNh"
      }
    },
    {
      "cell_type": "code",
      "source": [
        "print(\"\"\"\n",
        "Usage: thingy [OPTIONS]\n",
        "     -h                        Display this usage message\n",
        "     -H hostname               Hostname to connect to\n",
        "\"\"\")"
      ],
      "metadata": {
        "id": "gL5Wa6Rl502I",
        "colab": {
          "base_uri": "https://localhost:8080/"
        },
        "outputId": "a3cd08fd-3bee-4a16-f565-ba7b724b22f3"
      },
      "execution_count": 2,
      "outputs": [
        {
          "output_type": "stream",
          "name": "stdout",
          "text": [
            "\n",
            "Usage: thingy [OPTIONS]\n",
            "     -h                        Display this usage message\n",
            "     -H hostname               Hostname to connect to\n",
            "\n"
          ]
        }
      ]
    },
    {
      "cell_type": "markdown",
      "source": [
        "Strings can be concatenated (glued together) with the + operator"
      ],
      "metadata": {
        "id": "FDzFrtky7diA"
      }
    },
    {
      "cell_type": "code",
      "source": [
        "\"hello\" + \"world\""
      ],
      "metadata": {
        "id": "8iIVZnnp5qFE",
        "colab": {
          "base_uri": "https://localhost:8080/",
          "height": 35
        },
        "outputId": "3f9ec125-14c4-4a1f-ba22-c73d10f8da87"
      },
      "execution_count": 3,
      "outputs": [
        {
          "output_type": "execute_result",
          "data": {
            "text/plain": [
              "'helloworld'"
            ],
            "application/vnd.google.colaboratory.intrinsic+json": {
              "type": "string"
            }
          },
          "metadata": {},
          "execution_count": 3
        }
      ]
    },
    {
      "cell_type": "markdown",
      "source": [
        "Strings can be repeated with the * operator"
      ],
      "metadata": {
        "id": "AS3MB4p_7vE_"
      }
    },
    {
      "cell_type": "code",
      "source": [
        "\"hello\"*5"
      ],
      "metadata": {
        "id": "7SORUtGR7g8F",
        "colab": {
          "base_uri": "https://localhost:8080/",
          "height": 35
        },
        "outputId": "2a06040a-aff4-491e-e155-0e6415aaa991"
      },
      "execution_count": 4,
      "outputs": [
        {
          "output_type": "execute_result",
          "data": {
            "text/plain": [
              "'hellohellohellohellohello'"
            ],
            "application/vnd.google.colaboratory.intrinsic+json": {
              "type": "string"
            }
          },
          "metadata": {},
          "execution_count": 4
        }
      ]
    },
    {
      "cell_type": "markdown",
      "source": [
        "Two or more string literals (i.e. the ones enclosed between quotes) next to each other are automatically concatenated."
      ],
      "metadata": {
        "id": "hPoJZeOp8Nf2"
      }
    },
    {
      "cell_type": "code",
      "source": [
        "'Hello'  'World'"
      ],
      "metadata": {
        "id": "tNZ2seHl77xo",
        "colab": {
          "base_uri": "https://localhost:8080/",
          "height": 35
        },
        "outputId": "ffcb98b1-277d-41fd-ac40-ee2cc86ab78f"
      },
      "execution_count": 5,
      "outputs": [
        {
          "output_type": "execute_result",
          "data": {
            "text/plain": [
              "'HelloWorld'"
            ],
            "application/vnd.google.colaboratory.intrinsic+json": {
              "type": "string"
            }
          },
          "metadata": {},
          "execution_count": 5
        }
      ]
    },
    {
      "cell_type": "markdown",
      "source": [
        "This feature is particularly useful when you want to break long strings:"
      ],
      "metadata": {
        "id": "5Hm58xLe8j5j"
      }
    },
    {
      "cell_type": "code",
      "source": [
        "text = ('Put several strings within parentheses '\n",
        "        'to have them joined together.')"
      ],
      "metadata": {
        "id": "q9lj9p728TJx"
      },
      "execution_count": 6,
      "outputs": []
    },
    {
      "cell_type": "code",
      "source": [
        "text"
      ],
      "metadata": {
        "id": "rEj-s6378ujj",
        "colab": {
          "base_uri": "https://localhost:8080/",
          "height": 35
        },
        "outputId": "283cba53-fc9b-44bd-ac9e-67a4b8b6d07b"
      },
      "execution_count": 7,
      "outputs": [
        {
          "output_type": "execute_result",
          "data": {
            "text/plain": [
              "'Put several strings within parentheses to have them joined together.'"
            ],
            "application/vnd.google.colaboratory.intrinsic+json": {
              "type": "string"
            }
          },
          "metadata": {},
          "execution_count": 7
        }
      ]
    },
    {
      "cell_type": "markdown",
      "source": [
        "This only works with two literals though, not with variables or expressions:"
      ],
      "metadata": {
        "id": "v8OdAgwq9G68"
      }
    },
    {
      "cell_type": "code",
      "source": [
        "x = \"Hello\"\n",
        "x \"world\"             ## can't concatenate a variable and a string literal"
      ],
      "metadata": {
        "id": "r7O-F0Vc8xLe",
        "colab": {
          "base_uri": "https://localhost:8080/",
          "height": 143
        },
        "outputId": "7afcb2bb-e274-4d76-dc2c-35565b657abc"
      },
      "execution_count": 12,
      "outputs": [
        {
          "output_type": "error",
          "ename": "SyntaxError",
          "evalue": "ignored",
          "traceback": [
            "\u001b[0;36m  File \u001b[0;32m\"<ipython-input-12-f717c445848f>\"\u001b[0;36m, line \u001b[0;32m2\u001b[0m\n\u001b[0;31m    x \"world\"             ## can't concatenate a variable and a string literal\u001b[0m\n\u001b[0m      ^\u001b[0m\n\u001b[0;31mSyntaxError\u001b[0m\u001b[0;31m:\u001b[0m invalid syntax\n"
          ]
        }
      ]
    },
    {
      "cell_type": "code",
      "source": [
        "('un' * 3) 'ium'"
      ],
      "metadata": {
        "id": "mvvkXFBL9Yip",
        "colab": {
          "base_uri": "https://localhost:8080/",
          "height": 143
        },
        "outputId": "5109f658-0d78-449f-9ef7-61a3757ccba4"
      },
      "execution_count": 13,
      "outputs": [
        {
          "output_type": "error",
          "ename": "SyntaxError",
          "evalue": "ignored",
          "traceback": [
            "\u001b[0;36m  File \u001b[0;32m\"<ipython-input-13-f4764cbe42a8>\"\u001b[0;36m, line \u001b[0;32m1\u001b[0m\n\u001b[0;31m    ('un' * 3) 'ium'\u001b[0m\n\u001b[0m               ^\u001b[0m\n\u001b[0;31mSyntaxError\u001b[0m\u001b[0;31m:\u001b[0m invalid syntax\n"
          ]
        }
      ]
    },
    {
      "cell_type": "markdown",
      "source": [
        "If you want to concatenate variables or a variable and a literal, use +:"
      ],
      "metadata": {
        "id": "qRQJ2yi4-F6a"
      }
    },
    {
      "cell_type": "code",
      "source": [
        "X=\"Python\"\n",
        "X+'world'"
      ],
      "metadata": {
        "id": "AjFgYhz093tb",
        "colab": {
          "base_uri": "https://localhost:8080/",
          "height": 35
        },
        "outputId": "391f4a4f-a9dc-4bcd-d311-df592311cbea"
      },
      "execution_count": 14,
      "outputs": [
        {
          "output_type": "execute_result",
          "data": {
            "text/plain": [
              "'Pythonworld'"
            ],
            "application/vnd.google.colaboratory.intrinsic+json": {
              "type": "string"
            }
          },
          "metadata": {},
          "execution_count": 14
        }
      ]
    },
    {
      "cell_type": "markdown",
      "source": [
        "### String Indexing\n",
        "Strings can be indexed (subscripted), with the first character having index 0. There is no separate character type; a character is simply a string of size one"
      ],
      "metadata": {
        "id": "jMj4luFE_TGD"
      }
    },
    {
      "cell_type": "code",
      "source": [
        "x = \"Welcome\""
      ],
      "metadata": {
        "id": "wC-LI1-bEp2Q"
      },
      "execution_count": null,
      "outputs": []
    },
    {
      "cell_type": "code",
      "source": [
        "x = \"Welcome\"\n",
        "x[0] # character in position 0"
      ],
      "metadata": {
        "id": "r4OlG478_O9M",
        "colab": {
          "base_uri": "https://localhost:8080/",
          "height": 35
        },
        "outputId": "f94c4789-0248-43c0-f695-eb5e36428cc6"
      },
      "execution_count": 15,
      "outputs": [
        {
          "output_type": "execute_result",
          "data": {
            "text/plain": [
              "'W'"
            ],
            "application/vnd.google.colaboratory.intrinsic+json": {
              "type": "string"
            }
          },
          "metadata": {},
          "execution_count": 15
        }
      ]
    },
    {
      "cell_type": "code",
      "source": [
        "x[6] # character in position 6"
      ],
      "metadata": {
        "id": "YLhcCbcc-LeU",
        "colab": {
          "base_uri": "https://localhost:8080/",
          "height": 35
        },
        "outputId": "b682fcd7-5592-4a5d-83a9-26036c67fbbf"
      },
      "execution_count": 16,
      "outputs": [
        {
          "output_type": "execute_result",
          "data": {
            "text/plain": [
              "'e'"
            ],
            "application/vnd.google.colaboratory.intrinsic+json": {
              "type": "string"
            }
          },
          "metadata": {},
          "execution_count": 16
        }
      ]
    },
    {
      "cell_type": "markdown",
      "source": [
        "### Negative index\n",
        "Indices may also be negative numbers, to start counting from the right:"
      ],
      "metadata": {
        "id": "osEr2Hm5_si0"
      }
    },
    {
      "cell_type": "code",
      "source": [
        "x[-1]  # last character"
      ],
      "metadata": {
        "id": "KfCt94I3_lRu",
        "colab": {
          "base_uri": "https://localhost:8080/",
          "height": 35
        },
        "outputId": "37a04444-9a0e-4778-a5b0-9484d9f3c325"
      },
      "execution_count": 17,
      "outputs": [
        {
          "output_type": "execute_result",
          "data": {
            "text/plain": [
              "'e'"
            ],
            "application/vnd.google.colaboratory.intrinsic+json": {
              "type": "string"
            }
          },
          "metadata": {},
          "execution_count": 17
        }
      ]
    },
    {
      "cell_type": "code",
      "source": [
        "x[-2]  # second-last character"
      ],
      "metadata": {
        "id": "FURv0ufP_vtq",
        "colab": {
          "base_uri": "https://localhost:8080/",
          "height": 35
        },
        "outputId": "f50d07dc-050f-4f20-e95b-a86762961155"
      },
      "execution_count": 18,
      "outputs": [
        {
          "output_type": "execute_result",
          "data": {
            "text/plain": [
              "'m'"
            ],
            "application/vnd.google.colaboratory.intrinsic+json": {
              "type": "string"
            }
          },
          "metadata": {},
          "execution_count": 18
        }
      ]
    },
    {
      "cell_type": "markdown",
      "source": [
        "\n",
        "### Slicing\n",
        "slicing allows you to obtain substring:"
      ],
      "metadata": {
        "id": "fW9g9EeSA7PV"
      }
    },
    {
      "cell_type": "code",
      "source": [
        "x[0:2] # characters from position 0 (included) to 2 (excluded)"
      ],
      "metadata": {
        "id": "OrCUSQYjAzb7",
        "colab": {
          "base_uri": "https://localhost:8080/",
          "height": 35
        },
        "outputId": "79567dc6-ff45-4a73-bdba-ebeaaaf25570"
      },
      "execution_count": 19,
      "outputs": [
        {
          "output_type": "execute_result",
          "data": {
            "text/plain": [
              "'We'"
            ],
            "application/vnd.google.colaboratory.intrinsic+json": {
              "type": "string"
            }
          },
          "metadata": {},
          "execution_count": 19
        }
      ]
    },
    {
      "cell_type": "code",
      "source": [
        "x[4:6] # characters from position 4 (included) to 6 (excluded)"
      ],
      "metadata": {
        "id": "R8Fw7xPA_3UY",
        "colab": {
          "base_uri": "https://localhost:8080/",
          "height": 35
        },
        "outputId": "6fd42527-57d4-44e8-a80b-998b33e55e2f"
      },
      "execution_count": 20,
      "outputs": [
        {
          "output_type": "execute_result",
          "data": {
            "text/plain": [
              "'om'"
            ],
            "application/vnd.google.colaboratory.intrinsic+json": {
              "type": "string"
            }
          },
          "metadata": {},
          "execution_count": 20
        }
      ]
    },
    {
      "cell_type": "markdown",
      "source": [
        "Slice indices have useful defaults; an omitted first index defaults to zero, an omitted second index defaults to the size of the string being sliced."
      ],
      "metadata": {
        "id": "GEVnLFsXCHEb"
      }
    },
    {
      "cell_type": "code",
      "source": [
        "x[:4] # character from the beginning to position 4 (excluded)"
      ],
      "metadata": {
        "id": "M2K4pzLvCLz2",
        "colab": {
          "base_uri": "https://localhost:8080/",
          "height": 35
        },
        "outputId": "527d6efe-4335-4a49-f16a-e804fc3f9679"
      },
      "execution_count": 21,
      "outputs": [
        {
          "output_type": "execute_result",
          "data": {
            "text/plain": [
              "'Welc'"
            ],
            "application/vnd.google.colaboratory.intrinsic+json": {
              "type": "string"
            }
          },
          "metadata": {},
          "execution_count": 21
        }
      ]
    },
    {
      "cell_type": "code",
      "source": [
        "x[2:] # characters from position 2 (included) to the end"
      ],
      "metadata": {
        "id": "e7317ZbkCQD_",
        "colab": {
          "base_uri": "https://localhost:8080/",
          "height": 35
        },
        "outputId": "a6551e56-564d-4692-eeaa-afec39bb57d1"
      },
      "execution_count": 22,
      "outputs": [
        {
          "output_type": "execute_result",
          "data": {
            "text/plain": [
              "'lcome'"
            ],
            "application/vnd.google.colaboratory.intrinsic+json": {
              "type": "string"
            }
          },
          "metadata": {},
          "execution_count": 22
        }
      ]
    },
    {
      "cell_type": "code",
      "source": [
        "x[-2:] # characters from the second-last (included) to the end"
      ],
      "metadata": {
        "id": "MhP3ovhWCiLE",
        "colab": {
          "base_uri": "https://localhost:8080/",
          "height": 35
        },
        "outputId": "a6f40d18-6e13-434a-c849-e6a4f381e2e5"
      },
      "execution_count": 23,
      "outputs": [
        {
          "output_type": "execute_result",
          "data": {
            "text/plain": [
              "'me'"
            ],
            "application/vnd.google.colaboratory.intrinsic+json": {
              "type": "string"
            }
          },
          "metadata": {},
          "execution_count": 23
        }
      ]
    },
    {
      "cell_type": "markdown",
      "source": [
        "s[:i] + s[i:] is always equal to s:"
      ],
      "metadata": {
        "id": "WyOa5JEuBp3P"
      }
    },
    {
      "cell_type": "code",
      "source": [
        "x[:2]+x[2:]"
      ],
      "metadata": {
        "id": "LKmm-WRFBGEE",
        "colab": {
          "base_uri": "https://localhost:8080/",
          "height": 35
        },
        "outputId": "324ba384-9a3c-4330-b709-8512a27f4489"
      },
      "execution_count": 24,
      "outputs": [
        {
          "output_type": "execute_result",
          "data": {
            "text/plain": [
              "'Welcome'"
            ],
            "application/vnd.google.colaboratory.intrinsic+json": {
              "type": "string"
            }
          },
          "metadata": {},
          "execution_count": 24
        }
      ]
    },
    {
      "cell_type": "code",
      "source": [
        "x[:5]+x[5:]"
      ],
      "metadata": {
        "id": "Rcnlq9Q5BxP7",
        "colab": {
          "base_uri": "https://localhost:8080/",
          "height": 35
        },
        "outputId": "48046db5-74cd-418c-9346-f79413f5678d"
      },
      "execution_count": 25,
      "outputs": [
        {
          "output_type": "execute_result",
          "data": {
            "text/plain": [
              "'Welcome'"
            ],
            "application/vnd.google.colaboratory.intrinsic+json": {
              "type": "string"
            }
          },
          "metadata": {},
          "execution_count": 25
        }
      ]
    },
    {
      "cell_type": "markdown",
      "source": [],
      "metadata": {
        "id": "J37lOhUQDIhN"
      }
    },
    {
      "cell_type": "code",
      "source": [
        "print(\"\"\"  +---+---+---+---+---+---+\n",
        " | P | y | t | h | o | n |\n",
        " +---+---+---+---+---+---+\n",
        " 0   1   2   3   4   5   6\n",
        "-6  -5  -4  -3  -2  -1 \"\"\")\n",
        "# The first row of numbers gives the position of the indices 0…6 in the string; the second row gives the corresponding negative indices."
      ],
      "metadata": {
        "id": "c2NnuTdgB15a",
        "colab": {
          "base_uri": "https://localhost:8080/"
        },
        "outputId": "95f92838-f5c1-4aa9-da71-9ba6f977547b"
      },
      "execution_count": 26,
      "outputs": [
        {
          "output_type": "stream",
          "name": "stdout",
          "text": [
            "  +---+---+---+---+---+---+\n",
            " | P | y | t | h | o | n |\n",
            " +---+---+---+---+---+---+\n",
            " 0   1   2   3   4   5   6\n",
            "-6  -5  -4  -3  -2  -1 \n"
          ]
        }
      ]
    },
    {
      "cell_type": "code",
      "source": [
        "x[10] #Attempting to use an index that is too large will result in an error:"
      ],
      "metadata": {
        "id": "AU2Ni0UCDQQU",
        "colab": {
          "base_uri": "https://localhost:8080/",
          "height": 179
        },
        "outputId": "acb36dd2-11b1-4ada-9f53-03056953294f"
      },
      "execution_count": 27,
      "outputs": [
        {
          "output_type": "error",
          "ename": "IndexError",
          "evalue": "ignored",
          "traceback": [
            "\u001b[0;31m---------------------------------------------------------------------------\u001b[0m",
            "\u001b[0;31mIndexError\u001b[0m                                Traceback (most recent call last)",
            "\u001b[0;32m<ipython-input-27-fc00af29f44e>\u001b[0m in \u001b[0;36m<cell line: 1>\u001b[0;34m()\u001b[0m\n\u001b[0;32m----> 1\u001b[0;31m \u001b[0mx\u001b[0m\u001b[0;34m[\u001b[0m\u001b[0;36m10\u001b[0m\u001b[0;34m]\u001b[0m \u001b[0;31m#Attempting to use an index that is too large will result in an error:\u001b[0m\u001b[0;34m\u001b[0m\u001b[0;34m\u001b[0m\u001b[0m\n\u001b[0m",
            "\u001b[0;31mIndexError\u001b[0m: string index out of range"
          ]
        }
      ]
    },
    {
      "cell_type": "code",
      "source": [
        "x[2:10] #out of range slice indexes are handled gracefully when used for slicing"
      ],
      "metadata": {
        "id": "MeGpRmUVD5TO",
        "colab": {
          "base_uri": "https://localhost:8080/",
          "height": 35
        },
        "outputId": "33fbf1fb-3ca5-4358-a6f5-aec8d9a30261"
      },
      "execution_count": 28,
      "outputs": [
        {
          "output_type": "execute_result",
          "data": {
            "text/plain": [
              "'lcome'"
            ],
            "application/vnd.google.colaboratory.intrinsic+json": {
              "type": "string"
            }
          },
          "metadata": {},
          "execution_count": 28
        }
      ]
    },
    {
      "cell_type": "code",
      "source": [
        "x[10:]"
      ],
      "metadata": {
        "id": "Sxilr12NEEEq",
        "colab": {
          "base_uri": "https://localhost:8080/",
          "height": 35
        },
        "outputId": "c0137641-4a91-410e-dc80-5836e87894e3"
      },
      "execution_count": 29,
      "outputs": [
        {
          "output_type": "execute_result",
          "data": {
            "text/plain": [
              "''"
            ],
            "application/vnd.google.colaboratory.intrinsic+json": {
              "type": "string"
            }
          },
          "metadata": {},
          "execution_count": 29
        }
      ]
    },
    {
      "cell_type": "markdown",
      "source": [
        "### String are immutable\n",
        "Python strings cannot be changed — they are immutable. Therefore, assigning to an indexed position in the string results in an error:"
      ],
      "metadata": {
        "id": "9xBHps12Ef-o"
      }
    },
    {
      "cell_type": "code",
      "source": [
        "x[0] = M"
      ],
      "metadata": {
        "id": "6z44gbsdEL27",
        "colab": {
          "base_uri": "https://localhost:8080/",
          "height": 179
        },
        "outputId": "8f531692-6057-41eb-d1b8-9f4e3c42646f"
      },
      "execution_count": 30,
      "outputs": [
        {
          "output_type": "error",
          "ename": "NameError",
          "evalue": "ignored",
          "traceback": [
            "\u001b[0;31m---------------------------------------------------------------------------\u001b[0m",
            "\u001b[0;31mNameError\u001b[0m                                 Traceback (most recent call last)",
            "\u001b[0;32m<ipython-input-30-505cf239d796>\u001b[0m in \u001b[0;36m<cell line: 1>\u001b[0;34m()\u001b[0m\n\u001b[0;32m----> 1\u001b[0;31m \u001b[0mx\u001b[0m\u001b[0;34m[\u001b[0m\u001b[0;36m0\u001b[0m\u001b[0;34m]\u001b[0m \u001b[0;34m=\u001b[0m \u001b[0mM\u001b[0m\u001b[0;34m\u001b[0m\u001b[0;34m\u001b[0m\u001b[0m\n\u001b[0m",
            "\u001b[0;31mNameError\u001b[0m: name 'M' is not defined"
          ]
        }
      ]
    },
    {
      "cell_type": "code",
      "source": [
        "x[2:]= \"python\""
      ],
      "metadata": {
        "id": "FmANx17BErD0",
        "colab": {
          "base_uri": "https://localhost:8080/",
          "height": 179
        },
        "outputId": "b0bda11c-ee30-49b2-9ed6-7cf0654b40c9"
      },
      "execution_count": 31,
      "outputs": [
        {
          "output_type": "error",
          "ename": "TypeError",
          "evalue": "ignored",
          "traceback": [
            "\u001b[0;31m---------------------------------------------------------------------------\u001b[0m",
            "\u001b[0;31mTypeError\u001b[0m                                 Traceback (most recent call last)",
            "\u001b[0;32m<ipython-input-31-913bc198fa4d>\u001b[0m in \u001b[0;36m<cell line: 1>\u001b[0;34m()\u001b[0m\n\u001b[0;32m----> 1\u001b[0;31m \u001b[0mx\u001b[0m\u001b[0;34m[\u001b[0m\u001b[0;36m2\u001b[0m\u001b[0;34m:\u001b[0m\u001b[0;34m]\u001b[0m\u001b[0;34m=\u001b[0m \u001b[0;34m\"python\"\u001b[0m\u001b[0;34m\u001b[0m\u001b[0;34m\u001b[0m\u001b[0m\n\u001b[0m",
            "\u001b[0;31mTypeError\u001b[0m: 'str' object does not support item assignment"
          ]
        }
      ]
    },
    {
      "cell_type": "markdown",
      "source": [
        "If you need a different string, you should create a new one:"
      ],
      "metadata": {
        "id": "qkoaI_n4FJa0"
      }
    },
    {
      "cell_type": "code",
      "source": [
        "'M'+x[1:]"
      ],
      "metadata": {
        "id": "cg2NcWjXE07I",
        "colab": {
          "base_uri": "https://localhost:8080/",
          "height": 35
        },
        "outputId": "660ba02e-af0f-4683-ea9e-790451e751fe"
      },
      "execution_count": 34,
      "outputs": [
        {
          "output_type": "execute_result",
          "data": {
            "text/plain": [
              "'Melcome'"
            ],
            "application/vnd.google.colaboratory.intrinsic+json": {
              "type": "string"
            }
          },
          "metadata": {},
          "execution_count": 34
        }
      ]
    },
    {
      "cell_type": "code",
      "source": [
        "x[2:]+\"hello\""
      ],
      "metadata": {
        "id": "beSMCQcpFP7_",
        "colab": {
          "base_uri": "https://localhost:8080/",
          "height": 35
        },
        "outputId": "dacaeb42-f6bd-4dd1-ab1d-11457b6a5c11"
      },
      "execution_count": 35,
      "outputs": [
        {
          "output_type": "execute_result",
          "data": {
            "text/plain": [
              "'lcomehello'"
            ],
            "application/vnd.google.colaboratory.intrinsic+json": {
              "type": "string"
            }
          },
          "metadata": {},
          "execution_count": 35
        }
      ]
    },
    {
      "cell_type": "markdown",
      "source": [
        "The built-in function len() returns the length of a string:"
      ],
      "metadata": {
        "id": "D_uWjN6DFlVB"
      }
    },
    {
      "cell_type": "code",
      "source": [
        "len(\"supercalifragilisticexpialidocious\")"
      ],
      "metadata": {
        "id": "-wLFGJEjFgeO",
        "colab": {
          "base_uri": "https://localhost:8080/"
        },
        "outputId": "b8fc93de-8802-4187-e661-4ab2805eab3e"
      },
      "execution_count": 36,
      "outputs": [
        {
          "output_type": "execute_result",
          "data": {
            "text/plain": [
              "34"
            ]
          },
          "metadata": {},
          "execution_count": 36
        }
      ]
    },
    {
      "cell_type": "code",
      "source": [],
      "metadata": {
        "id": "sI2X4u05GD8P"
      },
      "execution_count": null,
      "outputs": []
    }
  ]
}