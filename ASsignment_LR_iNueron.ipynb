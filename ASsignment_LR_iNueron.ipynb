{
 "cells": [
  {
   "cell_type": "markdown",
   "metadata": {},
   "source": [
    "# Build the linear regression model using scikit learn in boston data to predict 'Price' based on other dependent variable."
   ]
  },
  {
   "cell_type": "code",
   "execution_count": 37,
   "metadata": {
    "collapsed": true
   },
   "outputs": [],
   "source": [
    "import numpy as np\n",
    "import pandas as pd\n",
    "import scipy.stats as stats\n",
    "import matplotlib.pyplot as plt\n",
    "import sklearn\n",
    "from sklearn.datasets import load_boston\n",
    "from sklearn.metrics import r2_score\n",
    "from sklearn.metrics import mean_squared_error"
   ]
  },
  {
   "cell_type": "code",
   "execution_count": 2,
   "metadata": {
    "collapsed": true
   },
   "outputs": [],
   "source": [
    "boston = load_boston()"
   ]
  },
  {
   "cell_type": "code",
   "execution_count": 3,
   "metadata": {},
   "outputs": [
    {
     "data": {
      "text/html": [
       "<div>\n",
       "<style scoped>\n",
       "    .dataframe tbody tr th:only-of-type {\n",
       "        vertical-align: middle;\n",
       "    }\n",
       "\n",
       "    .dataframe tbody tr th {\n",
       "        vertical-align: top;\n",
       "    }\n",
       "\n",
       "    .dataframe thead th {\n",
       "        text-align: right;\n",
       "    }\n",
       "</style>\n",
       "<table border=\"1\" class=\"dataframe\">\n",
       "  <thead>\n",
       "    <tr style=\"text-align: right;\">\n",
       "      <th></th>\n",
       "      <th>A</th>\n",
       "      <th>B</th>\n",
       "      <th>C</th>\n",
       "      <th>D</th>\n",
       "      <th>E</th>\n",
       "      <th>F</th>\n",
       "      <th>G</th>\n",
       "      <th>H</th>\n",
       "      <th>I</th>\n",
       "      <th>J</th>\n",
       "      <th>K</th>\n",
       "      <th>L</th>\n",
       "      <th>Price</th>\n",
       "    </tr>\n",
       "  </thead>\n",
       "  <tbody>\n",
       "    <tr>\n",
       "      <th>0</th>\n",
       "      <td>0.00632</td>\n",
       "      <td>18.0</td>\n",
       "      <td>2.31</td>\n",
       "      <td>0.0</td>\n",
       "      <td>0.538</td>\n",
       "      <td>6.575</td>\n",
       "      <td>65.2</td>\n",
       "      <td>4.0900</td>\n",
       "      <td>1.0</td>\n",
       "      <td>296.0</td>\n",
       "      <td>15.3</td>\n",
       "      <td>396.90</td>\n",
       "      <td>4.98</td>\n",
       "    </tr>\n",
       "    <tr>\n",
       "      <th>1</th>\n",
       "      <td>0.02731</td>\n",
       "      <td>0.0</td>\n",
       "      <td>7.07</td>\n",
       "      <td>0.0</td>\n",
       "      <td>0.469</td>\n",
       "      <td>6.421</td>\n",
       "      <td>78.9</td>\n",
       "      <td>4.9671</td>\n",
       "      <td>2.0</td>\n",
       "      <td>242.0</td>\n",
       "      <td>17.8</td>\n",
       "      <td>396.90</td>\n",
       "      <td>9.14</td>\n",
       "    </tr>\n",
       "    <tr>\n",
       "      <th>2</th>\n",
       "      <td>0.02729</td>\n",
       "      <td>0.0</td>\n",
       "      <td>7.07</td>\n",
       "      <td>0.0</td>\n",
       "      <td>0.469</td>\n",
       "      <td>7.185</td>\n",
       "      <td>61.1</td>\n",
       "      <td>4.9671</td>\n",
       "      <td>2.0</td>\n",
       "      <td>242.0</td>\n",
       "      <td>17.8</td>\n",
       "      <td>392.83</td>\n",
       "      <td>4.03</td>\n",
       "    </tr>\n",
       "    <tr>\n",
       "      <th>3</th>\n",
       "      <td>0.03237</td>\n",
       "      <td>0.0</td>\n",
       "      <td>2.18</td>\n",
       "      <td>0.0</td>\n",
       "      <td>0.458</td>\n",
       "      <td>6.998</td>\n",
       "      <td>45.8</td>\n",
       "      <td>6.0622</td>\n",
       "      <td>3.0</td>\n",
       "      <td>222.0</td>\n",
       "      <td>18.7</td>\n",
       "      <td>394.63</td>\n",
       "      <td>2.94</td>\n",
       "    </tr>\n",
       "    <tr>\n",
       "      <th>4</th>\n",
       "      <td>0.06905</td>\n",
       "      <td>0.0</td>\n",
       "      <td>2.18</td>\n",
       "      <td>0.0</td>\n",
       "      <td>0.458</td>\n",
       "      <td>7.147</td>\n",
       "      <td>54.2</td>\n",
       "      <td>6.0622</td>\n",
       "      <td>3.0</td>\n",
       "      <td>222.0</td>\n",
       "      <td>18.7</td>\n",
       "      <td>396.90</td>\n",
       "      <td>5.33</td>\n",
       "    </tr>\n",
       "  </tbody>\n",
       "</table>\n",
       "</div>"
      ],
      "text/plain": [
       "         A     B     C    D      E      F     G       H    I      J     K  \\\n",
       "0  0.00632  18.0  2.31  0.0  0.538  6.575  65.2  4.0900  1.0  296.0  15.3   \n",
       "1  0.02731   0.0  7.07  0.0  0.469  6.421  78.9  4.9671  2.0  242.0  17.8   \n",
       "2  0.02729   0.0  7.07  0.0  0.469  7.185  61.1  4.9671  2.0  242.0  17.8   \n",
       "3  0.03237   0.0  2.18  0.0  0.458  6.998  45.8  6.0622  3.0  222.0  18.7   \n",
       "4  0.06905   0.0  2.18  0.0  0.458  7.147  54.2  6.0622  3.0  222.0  18.7   \n",
       "\n",
       "        L  Price  \n",
       "0  396.90   4.98  \n",
       "1  396.90   9.14  \n",
       "2  392.83   4.03  \n",
       "3  394.63   2.94  \n",
       "4  396.90   5.33  "
      ]
     },
     "execution_count": 3,
     "metadata": {},
     "output_type": "execute_result"
    }
   ],
   "source": [
    "bos = pd.DataFrame(boston.data,columns=['A', 'B', 'C', 'D','E','F','G','H','I','J','K','L','Price'])\n",
    "bos.head()"
   ]
  },
  {
   "cell_type": "code",
   "execution_count": 4,
   "metadata": {},
   "outputs": [
    {
     "name": "stdout",
     "output_type": "stream",
     "text": [
      "<class 'pandas.core.frame.DataFrame'>\n",
      "RangeIndex: 506 entries, 0 to 505\n",
      "Data columns (total 13 columns):\n",
      " #   Column  Non-Null Count  Dtype  \n",
      "---  ------  --------------  -----  \n",
      " 0   A       506 non-null    float64\n",
      " 1   B       506 non-null    float64\n",
      " 2   C       506 non-null    float64\n",
      " 3   D       506 non-null    float64\n",
      " 4   E       506 non-null    float64\n",
      " 5   F       506 non-null    float64\n",
      " 6   G       506 non-null    float64\n",
      " 7   H       506 non-null    float64\n",
      " 8   I       506 non-null    float64\n",
      " 9   J       506 non-null    float64\n",
      " 10  K       506 non-null    float64\n",
      " 11  L       506 non-null    float64\n",
      " 12  Price   506 non-null    float64\n",
      "dtypes: float64(13)\n",
      "memory usage: 51.5 KB\n"
     ]
    }
   ],
   "source": [
    "bos.info()"
   ]
  },
  {
   "cell_type": "code",
   "execution_count": 5,
   "metadata": {},
   "outputs": [
    {
     "data": {
      "text/plain": [
       "(506, 13)"
      ]
     },
     "execution_count": 5,
     "metadata": {},
     "output_type": "execute_result"
    }
   ],
   "source": [
    "bos.shape"
   ]
  },
  {
   "cell_type": "markdown",
   "metadata": {},
   "source": [
    "# Preparing X and Y"
   ]
  },
  {
   "cell_type": "code",
   "execution_count": 6,
   "metadata": {},
   "outputs": [],
   "source": [
    "x= bos.drop([\"Price\"], axis = 1)"
   ]
  },
  {
   "cell_type": "code",
   "execution_count": 7,
   "metadata": {},
   "outputs": [
    {
     "data": {
      "text/html": [
       "<div>\n",
       "<style scoped>\n",
       "    .dataframe tbody tr th:only-of-type {\n",
       "        vertical-align: middle;\n",
       "    }\n",
       "\n",
       "    .dataframe tbody tr th {\n",
       "        vertical-align: top;\n",
       "    }\n",
       "\n",
       "    .dataframe thead th {\n",
       "        text-align: right;\n",
       "    }\n",
       "</style>\n",
       "<table border=\"1\" class=\"dataframe\">\n",
       "  <thead>\n",
       "    <tr style=\"text-align: right;\">\n",
       "      <th></th>\n",
       "      <th>A</th>\n",
       "      <th>B</th>\n",
       "      <th>C</th>\n",
       "      <th>D</th>\n",
       "      <th>E</th>\n",
       "      <th>F</th>\n",
       "      <th>G</th>\n",
       "      <th>H</th>\n",
       "      <th>I</th>\n",
       "      <th>J</th>\n",
       "      <th>K</th>\n",
       "      <th>L</th>\n",
       "    </tr>\n",
       "  </thead>\n",
       "  <tbody>\n",
       "    <tr>\n",
       "      <th>0</th>\n",
       "      <td>0.00632</td>\n",
       "      <td>18.0</td>\n",
       "      <td>2.31</td>\n",
       "      <td>0.0</td>\n",
       "      <td>0.538</td>\n",
       "      <td>6.575</td>\n",
       "      <td>65.2</td>\n",
       "      <td>4.0900</td>\n",
       "      <td>1.0</td>\n",
       "      <td>296.0</td>\n",
       "      <td>15.3</td>\n",
       "      <td>396.90</td>\n",
       "    </tr>\n",
       "    <tr>\n",
       "      <th>1</th>\n",
       "      <td>0.02731</td>\n",
       "      <td>0.0</td>\n",
       "      <td>7.07</td>\n",
       "      <td>0.0</td>\n",
       "      <td>0.469</td>\n",
       "      <td>6.421</td>\n",
       "      <td>78.9</td>\n",
       "      <td>4.9671</td>\n",
       "      <td>2.0</td>\n",
       "      <td>242.0</td>\n",
       "      <td>17.8</td>\n",
       "      <td>396.90</td>\n",
       "    </tr>\n",
       "    <tr>\n",
       "      <th>2</th>\n",
       "      <td>0.02729</td>\n",
       "      <td>0.0</td>\n",
       "      <td>7.07</td>\n",
       "      <td>0.0</td>\n",
       "      <td>0.469</td>\n",
       "      <td>7.185</td>\n",
       "      <td>61.1</td>\n",
       "      <td>4.9671</td>\n",
       "      <td>2.0</td>\n",
       "      <td>242.0</td>\n",
       "      <td>17.8</td>\n",
       "      <td>392.83</td>\n",
       "    </tr>\n",
       "    <tr>\n",
       "      <th>3</th>\n",
       "      <td>0.03237</td>\n",
       "      <td>0.0</td>\n",
       "      <td>2.18</td>\n",
       "      <td>0.0</td>\n",
       "      <td>0.458</td>\n",
       "      <td>6.998</td>\n",
       "      <td>45.8</td>\n",
       "      <td>6.0622</td>\n",
       "      <td>3.0</td>\n",
       "      <td>222.0</td>\n",
       "      <td>18.7</td>\n",
       "      <td>394.63</td>\n",
       "    </tr>\n",
       "    <tr>\n",
       "      <th>4</th>\n",
       "      <td>0.06905</td>\n",
       "      <td>0.0</td>\n",
       "      <td>2.18</td>\n",
       "      <td>0.0</td>\n",
       "      <td>0.458</td>\n",
       "      <td>7.147</td>\n",
       "      <td>54.2</td>\n",
       "      <td>6.0622</td>\n",
       "      <td>3.0</td>\n",
       "      <td>222.0</td>\n",
       "      <td>18.7</td>\n",
       "      <td>396.90</td>\n",
       "    </tr>\n",
       "  </tbody>\n",
       "</table>\n",
       "</div>"
      ],
      "text/plain": [
       "         A     B     C    D      E      F     G       H    I      J     K  \\\n",
       "0  0.00632  18.0  2.31  0.0  0.538  6.575  65.2  4.0900  1.0  296.0  15.3   \n",
       "1  0.02731   0.0  7.07  0.0  0.469  6.421  78.9  4.9671  2.0  242.0  17.8   \n",
       "2  0.02729   0.0  7.07  0.0  0.469  7.185  61.1  4.9671  2.0  242.0  17.8   \n",
       "3  0.03237   0.0  2.18  0.0  0.458  6.998  45.8  6.0622  3.0  222.0  18.7   \n",
       "4  0.06905   0.0  2.18  0.0  0.458  7.147  54.2  6.0622  3.0  222.0  18.7   \n",
       "\n",
       "        L  \n",
       "0  396.90  \n",
       "1  396.90  \n",
       "2  392.83  \n",
       "3  394.63  \n",
       "4  396.90  "
      ]
     },
     "execution_count": 7,
     "metadata": {},
     "output_type": "execute_result"
    }
   ],
   "source": [
    "x.head()"
   ]
  },
  {
   "cell_type": "code",
   "execution_count": 8,
   "metadata": {},
   "outputs": [],
   "source": [
    "y = bos[\"Price\"]"
   ]
  },
  {
   "cell_type": "code",
   "execution_count": 9,
   "metadata": {},
   "outputs": [
    {
     "data": {
      "text/plain": [
       "0    4.98\n",
       "1    9.14\n",
       "2    4.03\n",
       "3    2.94\n",
       "4    5.33\n",
       "Name: Price, dtype: float64"
      ]
     },
     "execution_count": 9,
     "metadata": {},
     "output_type": "execute_result"
    }
   ],
   "source": [
    "y.head()"
   ]
  },
  {
   "cell_type": "code",
   "execution_count": 10,
   "metadata": {},
   "outputs": [
    {
     "data": {
      "text/plain": [
       "(506, 12)"
      ]
     },
     "execution_count": 10,
     "metadata": {},
     "output_type": "execute_result"
    }
   ],
   "source": [
    "x.shape"
   ]
  },
  {
   "cell_type": "code",
   "execution_count": 11,
   "metadata": {},
   "outputs": [
    {
     "data": {
      "text/plain": [
       "(506,)"
      ]
     },
     "execution_count": 11,
     "metadata": {},
     "output_type": "execute_result"
    }
   ],
   "source": [
    "y.shape"
   ]
  },
  {
   "cell_type": "markdown",
   "metadata": {},
   "source": [
    "# Splitting Data into Training and Testing Sets"
   ]
  },
  {
   "cell_type": "code",
   "execution_count": 12,
   "metadata": {
    "collapsed": true
   },
   "outputs": [],
   "source": [
    "from sklearn.model_selection import train_test_split\n",
    "x_train, x_test, y_train, y_test = train_test_split(x, y, test_size=0.3 , random_state=100)"
   ]
  },
  {
   "cell_type": "code",
   "execution_count": 13,
   "metadata": {},
   "outputs": [
    {
     "data": {
      "text/html": [
       "<div>\n",
       "<style scoped>\n",
       "    .dataframe tbody tr th:only-of-type {\n",
       "        vertical-align: middle;\n",
       "    }\n",
       "\n",
       "    .dataframe tbody tr th {\n",
       "        vertical-align: top;\n",
       "    }\n",
       "\n",
       "    .dataframe thead th {\n",
       "        text-align: right;\n",
       "    }\n",
       "</style>\n",
       "<table border=\"1\" class=\"dataframe\">\n",
       "  <thead>\n",
       "    <tr style=\"text-align: right;\">\n",
       "      <th></th>\n",
       "      <th>A</th>\n",
       "      <th>B</th>\n",
       "      <th>C</th>\n",
       "      <th>D</th>\n",
       "      <th>E</th>\n",
       "      <th>F</th>\n",
       "      <th>G</th>\n",
       "      <th>H</th>\n",
       "      <th>I</th>\n",
       "      <th>J</th>\n",
       "      <th>K</th>\n",
       "      <th>L</th>\n",
       "    </tr>\n",
       "  </thead>\n",
       "  <tbody>\n",
       "    <tr>\n",
       "      <th>463</th>\n",
       "      <td>5.82115</td>\n",
       "      <td>0.0</td>\n",
       "      <td>18.10</td>\n",
       "      <td>0.0</td>\n",
       "      <td>0.713</td>\n",
       "      <td>6.513</td>\n",
       "      <td>89.9</td>\n",
       "      <td>2.8016</td>\n",
       "      <td>24.0</td>\n",
       "      <td>666.0</td>\n",
       "      <td>20.2</td>\n",
       "      <td>393.82</td>\n",
       "    </tr>\n",
       "    <tr>\n",
       "      <th>75</th>\n",
       "      <td>0.09512</td>\n",
       "      <td>0.0</td>\n",
       "      <td>12.83</td>\n",
       "      <td>0.0</td>\n",
       "      <td>0.437</td>\n",
       "      <td>6.286</td>\n",
       "      <td>45.0</td>\n",
       "      <td>4.5026</td>\n",
       "      <td>5.0</td>\n",
       "      <td>398.0</td>\n",
       "      <td>18.7</td>\n",
       "      <td>383.23</td>\n",
       "    </tr>\n",
       "    <tr>\n",
       "      <th>478</th>\n",
       "      <td>10.23300</td>\n",
       "      <td>0.0</td>\n",
       "      <td>18.10</td>\n",
       "      <td>0.0</td>\n",
       "      <td>0.614</td>\n",
       "      <td>6.185</td>\n",
       "      <td>96.7</td>\n",
       "      <td>2.1705</td>\n",
       "      <td>24.0</td>\n",
       "      <td>666.0</td>\n",
       "      <td>20.2</td>\n",
       "      <td>379.70</td>\n",
       "    </tr>\n",
       "    <tr>\n",
       "      <th>199</th>\n",
       "      <td>0.03150</td>\n",
       "      <td>95.0</td>\n",
       "      <td>1.47</td>\n",
       "      <td>0.0</td>\n",
       "      <td>0.403</td>\n",
       "      <td>6.975</td>\n",
       "      <td>15.3</td>\n",
       "      <td>7.6534</td>\n",
       "      <td>3.0</td>\n",
       "      <td>402.0</td>\n",
       "      <td>17.0</td>\n",
       "      <td>396.90</td>\n",
       "    </tr>\n",
       "    <tr>\n",
       "      <th>84</th>\n",
       "      <td>0.05059</td>\n",
       "      <td>0.0</td>\n",
       "      <td>4.49</td>\n",
       "      <td>0.0</td>\n",
       "      <td>0.449</td>\n",
       "      <td>6.389</td>\n",
       "      <td>48.0</td>\n",
       "      <td>4.7794</td>\n",
       "      <td>3.0</td>\n",
       "      <td>247.0</td>\n",
       "      <td>18.5</td>\n",
       "      <td>396.90</td>\n",
       "    </tr>\n",
       "  </tbody>\n",
       "</table>\n",
       "</div>"
      ],
      "text/plain": [
       "            A     B      C    D      E      F     G       H     I      J  \\\n",
       "463   5.82115   0.0  18.10  0.0  0.713  6.513  89.9  2.8016  24.0  666.0   \n",
       "75    0.09512   0.0  12.83  0.0  0.437  6.286  45.0  4.5026   5.0  398.0   \n",
       "478  10.23300   0.0  18.10  0.0  0.614  6.185  96.7  2.1705  24.0  666.0   \n",
       "199   0.03150  95.0   1.47  0.0  0.403  6.975  15.3  7.6534   3.0  402.0   \n",
       "84    0.05059   0.0   4.49  0.0  0.449  6.389  48.0  4.7794   3.0  247.0   \n",
       "\n",
       "        K       L  \n",
       "463  20.2  393.82  \n",
       "75   18.7  383.23  \n",
       "478  20.2  379.70  \n",
       "199  17.0  396.90  \n",
       "84   18.5  396.90  "
      ]
     },
     "execution_count": 13,
     "metadata": {},
     "output_type": "execute_result"
    }
   ],
   "source": [
    "x_train.head()"
   ]
  },
  {
   "cell_type": "code",
   "execution_count": 14,
   "metadata": {},
   "outputs": [
    {
     "data": {
      "text/plain": [
       "463    10.29\n",
       "75      8.94\n",
       "478    18.03\n",
       "199     4.56\n",
       "84      9.62\n",
       "Name: Price, dtype: float64"
      ]
     },
     "execution_count": 14,
     "metadata": {},
     "output_type": "execute_result"
    }
   ],
   "source": [
    "y_train.head()"
   ]
  },
  {
   "cell_type": "code",
   "execution_count": 15,
   "metadata": {},
   "outputs": [
    {
     "data": {
      "text/html": [
       "<div>\n",
       "<style scoped>\n",
       "    .dataframe tbody tr th:only-of-type {\n",
       "        vertical-align: middle;\n",
       "    }\n",
       "\n",
       "    .dataframe tbody tr th {\n",
       "        vertical-align: top;\n",
       "    }\n",
       "\n",
       "    .dataframe thead th {\n",
       "        text-align: right;\n",
       "    }\n",
       "</style>\n",
       "<table border=\"1\" class=\"dataframe\">\n",
       "  <thead>\n",
       "    <tr style=\"text-align: right;\">\n",
       "      <th></th>\n",
       "      <th>A</th>\n",
       "      <th>B</th>\n",
       "      <th>C</th>\n",
       "      <th>D</th>\n",
       "      <th>E</th>\n",
       "      <th>F</th>\n",
       "      <th>G</th>\n",
       "      <th>H</th>\n",
       "      <th>I</th>\n",
       "      <th>J</th>\n",
       "      <th>K</th>\n",
       "      <th>L</th>\n",
       "    </tr>\n",
       "  </thead>\n",
       "  <tbody>\n",
       "    <tr>\n",
       "      <th>198</th>\n",
       "      <td>0.03768</td>\n",
       "      <td>80.0</td>\n",
       "      <td>1.52</td>\n",
       "      <td>0.0</td>\n",
       "      <td>0.404</td>\n",
       "      <td>7.274</td>\n",
       "      <td>38.3</td>\n",
       "      <td>7.3090</td>\n",
       "      <td>2.0</td>\n",
       "      <td>329.0</td>\n",
       "      <td>12.6</td>\n",
       "      <td>392.20</td>\n",
       "    </tr>\n",
       "    <tr>\n",
       "      <th>229</th>\n",
       "      <td>0.44178</td>\n",
       "      <td>0.0</td>\n",
       "      <td>6.20</td>\n",
       "      <td>0.0</td>\n",
       "      <td>0.504</td>\n",
       "      <td>6.552</td>\n",
       "      <td>21.4</td>\n",
       "      <td>3.3751</td>\n",
       "      <td>8.0</td>\n",
       "      <td>307.0</td>\n",
       "      <td>17.4</td>\n",
       "      <td>380.34</td>\n",
       "    </tr>\n",
       "    <tr>\n",
       "      <th>502</th>\n",
       "      <td>0.04527</td>\n",
       "      <td>0.0</td>\n",
       "      <td>11.93</td>\n",
       "      <td>0.0</td>\n",
       "      <td>0.573</td>\n",
       "      <td>6.120</td>\n",
       "      <td>76.7</td>\n",
       "      <td>2.2875</td>\n",
       "      <td>1.0</td>\n",
       "      <td>273.0</td>\n",
       "      <td>21.0</td>\n",
       "      <td>396.90</td>\n",
       "    </tr>\n",
       "    <tr>\n",
       "      <th>31</th>\n",
       "      <td>1.35472</td>\n",
       "      <td>0.0</td>\n",
       "      <td>8.14</td>\n",
       "      <td>0.0</td>\n",
       "      <td>0.538</td>\n",
       "      <td>6.072</td>\n",
       "      <td>100.0</td>\n",
       "      <td>4.1750</td>\n",
       "      <td>4.0</td>\n",
       "      <td>307.0</td>\n",
       "      <td>21.0</td>\n",
       "      <td>376.73</td>\n",
       "    </tr>\n",
       "    <tr>\n",
       "      <th>315</th>\n",
       "      <td>0.25356</td>\n",
       "      <td>0.0</td>\n",
       "      <td>9.90</td>\n",
       "      <td>0.0</td>\n",
       "      <td>0.544</td>\n",
       "      <td>5.705</td>\n",
       "      <td>77.7</td>\n",
       "      <td>3.9450</td>\n",
       "      <td>4.0</td>\n",
       "      <td>304.0</td>\n",
       "      <td>18.4</td>\n",
       "      <td>396.42</td>\n",
       "    </tr>\n",
       "  </tbody>\n",
       "</table>\n",
       "</div>"
      ],
      "text/plain": [
       "           A     B      C    D      E      F      G       H    I      J     K  \\\n",
       "198  0.03768  80.0   1.52  0.0  0.404  7.274   38.3  7.3090  2.0  329.0  12.6   \n",
       "229  0.44178   0.0   6.20  0.0  0.504  6.552   21.4  3.3751  8.0  307.0  17.4   \n",
       "502  0.04527   0.0  11.93  0.0  0.573  6.120   76.7  2.2875  1.0  273.0  21.0   \n",
       "31   1.35472   0.0   8.14  0.0  0.538  6.072  100.0  4.1750  4.0  307.0  21.0   \n",
       "315  0.25356   0.0   9.90  0.0  0.544  5.705   77.7  3.9450  4.0  304.0  18.4   \n",
       "\n",
       "          L  \n",
       "198  392.20  \n",
       "229  380.34  \n",
       "502  396.90  \n",
       "31   376.73  \n",
       "315  396.42  "
      ]
     },
     "execution_count": 15,
     "metadata": {},
     "output_type": "execute_result"
    }
   ],
   "source": [
    "x_test.head()"
   ]
  },
  {
   "cell_type": "code",
   "execution_count": 16,
   "metadata": {},
   "outputs": [
    {
     "data": {
      "text/plain": [
       "198     6.62\n",
       "229     3.76\n",
       "502     9.08\n",
       "31     13.04\n",
       "315    11.50\n",
       "Name: Price, dtype: float64"
      ]
     },
     "execution_count": 16,
     "metadata": {},
     "output_type": "execute_result"
    }
   ],
   "source": [
    "y_test.head()"
   ]
  },
  {
   "cell_type": "code",
   "execution_count": 18,
   "metadata": {},
   "outputs": [
    {
     "name": "stdout",
     "output_type": "stream",
     "text": [
      "(354, 12)\n",
      "(354,)\n",
      "(152, 12)\n",
      "(152,)\n"
     ]
    }
   ],
   "source": [
    "print(x_train.shape)\n",
    "print(y_train.shape)\n",
    "print(x_test.shape)\n",
    "print(y_test.shape)"
   ]
  },
  {
   "cell_type": "markdown",
   "metadata": {},
   "source": [
    "# Performing Linear Regression"
   ]
  },
  {
   "cell_type": "code",
   "execution_count": 19,
   "metadata": {
    "collapsed": true
   },
   "outputs": [],
   "source": [
    "# import LinearRegression from sklearn\n",
    "from sklearn.linear_model import LinearRegression\n",
    "import matplotlib.pyplot as plt\n",
    "\n",
    "# Representing LinearRegression as lr(Creating LinearRegression Object)\n",
    "lr = LinearRegression()\n",
    "\n",
    "# Fit the model using lr.fit()\n",
    "model_fit = lr.fit(x_train, y_train)"
   ]
  },
  {
   "cell_type": "code",
   "execution_count": 21,
   "metadata": {},
   "outputs": [
    {
     "data": {
      "text/plain": [
       "array([ 1.50398464e+01,  9.35657776e+00,  1.73795062e+01,  3.14163292e+00,\n",
       "        8.49754890e+00,  1.62359342e+01,  1.32622884e+01,  2.01282640e+01,\n",
       "        1.28936466e+01,  8.42075313e+00,  1.20417250e+01,  1.99836164e+01,\n",
       "        7.56838713e+00,  9.56616061e+00,  2.22646006e+01,  6.91501772e+00,\n",
       "        1.00453948e+01,  1.78997268e+01,  1.22705367e+01,  6.84312860e+00,\n",
       "        1.08590209e+01,  3.44379588e+00,  6.00964523e+00,  4.97447514e+00,\n",
       "        1.21540846e+01,  1.70290725e+01,  8.67600661e+00,  1.08549920e+01,\n",
       "        3.63685636e+00,  1.67441725e+01,  9.08728920e+00,  1.35108895e+01,\n",
       "        7.49900360e+00,  1.56621248e+01,  9.86122588e+00,  1.65921699e+01,\n",
       "        4.02884096e+00,  1.72019420e+01,  5.94272082e+00,  2.00254225e+01,\n",
       "        2.77575237e+01,  1.60277621e+01,  7.13517150e+00,  1.94506246e+01,\n",
       "        1.81620299e+01,  2.85804304e+01,  1.21335223e+01,  1.54224654e+01,\n",
       "        1.81884479e+01,  1.78375236e+01,  9.27827701e+00,  9.91546848e+00,\n",
       "        1.32326461e+01,  6.54794608e+00,  1.26144890e+01,  1.76575241e+01,\n",
       "        1.46382739e+01,  2.02689640e+01,  9.86094637e+00,  8.65177361e+00,\n",
       "        1.37588861e+01,  1.55253117e+01,  2.00077971e+01,  1.73799036e+01,\n",
       "        1.10838381e+01,  1.44099087e+01,  1.28642464e+01,  8.68784397e+00,\n",
       "        1.39671270e+01,  1.19028878e+01,  2.06441730e+01,  8.63752434e+00,\n",
       "        2.09047583e+01,  1.04215680e+01,  9.25689330e+00,  1.06951126e+01,\n",
       "        1.37593664e+01,  4.49340345e+00,  1.48201460e+01,  2.10516197e+01,\n",
       "        1.10082599e+01,  3.09436225e+01,  1.21293376e+01,  1.53345396e+01,\n",
       "        2.19439053e+01,  1.61494121e+01,  4.32498304e+00,  1.24713831e+01,\n",
       "        2.83427881e+01,  5.81796678e+00,  1.71977695e+00,  8.32228472e+00,\n",
       "        6.08285987e+00,  2.03911807e+01,  2.75838712e+00,  1.40484083e+01,\n",
       "        8.26438628e+00,  9.51537330e+00,  1.13003526e+01,  2.32399402e+01,\n",
       "        1.92294728e+01,  6.63502529e+00,  1.71149531e+01,  1.19636003e+01,\n",
       "        1.29107841e+01,  4.92268814e-01,  5.23684905e+00,  1.48430880e+01,\n",
       "        1.82682572e+01,  1.67899117e+01,  1.36443798e+01,  8.65998241e+00,\n",
       "        1.17860073e+01,  6.87398538e+00,  1.61337310e+01,  6.22255389e+00,\n",
       "        1.90864052e+01,  1.33507811e+01,  8.59201655e+00,  2.65306589e+01,\n",
       "        1.53432206e+01,  1.46000241e+01,  1.35715417e+01,  8.12963385e+00,\n",
       "        8.60632061e+00,  1.66804295e+01,  6.44958703e+00,  1.59943612e+01,\n",
       "        1.94401246e+01,  7.77748581e+00,  1.07263899e+01,  1.15609775e+01,\n",
       "        2.56200650e+01,  1.65473398e+01,  9.16635599e+00,  1.40469533e+01,\n",
       "        1.13535226e+01,  1.45541079e+01,  9.98700940e+00,  9.93896386e+00,\n",
       "        6.44799894e+00,  9.81258862e+00,  2.37793080e+01,  9.77046293e+00,\n",
       "        2.50742692e+01,  2.17430676e+01,  1.51423771e+01,  1.45460766e+01,\n",
       "        2.11876443e+01,  1.02482622e+01,  6.33193506e+00,  1.02232823e+01,\n",
       "        7.15559366e+00,  1.53905642e+01,  8.84621338e+00,  1.45157350e+01,\n",
       "        1.58798927e+01,  1.38184312e+01,  5.22079204e+00,  5.25254174e+00,\n",
       "        9.98190970e+00,  1.31690551e+01,  7.78032944e+00,  2.34554010e+01,\n",
       "        1.24444473e+01,  1.84284090e+01,  5.53893907e+00,  3.10757980e+00,\n",
       "        1.76618562e+01,  1.52660068e+01,  1.61102338e+01,  1.92225920e+01,\n",
       "        2.92671409e+01,  1.48481045e+01,  1.82756112e+01,  1.89171862e+01,\n",
       "        1.41873664e+01,  1.46980148e+01,  3.61945847e+00,  1.57578788e+01,\n",
       "        1.59306560e+01,  2.09789131e+01,  2.27532193e+01,  1.61141080e+01,\n",
       "        2.05545377e+01,  9.91561897e+00,  1.55072409e+01,  1.66882491e+01,\n",
       "        2.22169799e+01,  1.09139407e+01,  8.73125151e+00,  2.65321829e+00,\n",
       "        6.26468373e+00,  2.08287337e+01,  7.45235711e+00,  1.55072223e+01,\n",
       "        9.97647319e+00,  1.04836359e+01,  5.32937973e+00,  2.14935731e+01,\n",
       "        2.42422488e+00,  8.88736566e+00,  1.73385571e+01,  4.82956038e+00,\n",
       "        1.07380088e+01,  9.16497957e+00,  8.60771084e+00,  1.31523321e+01,\n",
       "        7.92234720e+00,  1.07358367e+01,  9.75518029e+00,  4.32587835e+00,\n",
       "        6.13621354e+00,  7.45922106e+00,  1.80278454e+01,  5.82566139e+00,\n",
       "        1.22226642e+01,  9.62451616e+00,  8.67628732e+00,  8.64813589e+00,\n",
       "        1.29273282e+01,  7.15434203e+00,  2.24546300e+00,  1.15943157e+01,\n",
       "        1.81875787e+01,  1.55258468e+01,  1.73454717e+01,  3.68307928e+00,\n",
       "        4.75169895e+00,  1.50463453e+01, -1.89717419e+00,  6.26063181e+00,\n",
       "        3.30041927e+00,  1.35791666e+01,  1.08588612e+01,  1.69343027e+01,\n",
       "        5.93802766e+00,  3.60854420e+00,  1.51637336e+01,  1.20897948e+01,\n",
       "        6.86617363e+00,  1.21279604e+01,  1.29188491e+01,  6.89903035e+00,\n",
       "        1.22514272e+01,  7.81512337e+00,  1.21702848e+01,  1.77542579e+01,\n",
       "        1.46780110e+01,  1.35421061e+01,  1.04705485e+01,  8.94608246e+00,\n",
       "        1.03407884e+01,  7.33829928e+00,  1.24498284e+01,  2.79187573e+00,\n",
       "        5.16817237e+00,  9.67205153e+00,  1.65258781e+01,  1.80727483e+01,\n",
       "        9.74874615e+00,  1.19155625e+01,  1.45600566e+01,  1.17312157e+01,\n",
       "        1.85782503e+01,  5.45241503e+00,  1.54789744e+01,  2.05750234e+01,\n",
       "        1.12376714e+01,  1.53354282e+01,  8.58387838e+00,  9.34388316e+00,\n",
       "        1.72454446e+01,  7.53405159e+00,  1.13290770e+01,  1.01883518e+01,\n",
       "        1.43344363e+01,  1.70548997e+01,  1.48067985e+01,  1.26532630e+01,\n",
       "        7.06074784e+00,  3.14431334e+00, -3.89967522e-03,  3.20534423e+01,\n",
       "        2.94531740e+00,  5.27526141e+00,  1.52366796e+01,  1.10424257e+01,\n",
       "        2.78703014e+01,  1.70479753e+01,  3.63756335e+00,  1.46931978e+01,\n",
       "        3.35695507e+01,  1.36409872e+01,  6.12539004e+00,  1.45462226e+01,\n",
       "       -7.57328999e-01,  1.03456269e+01,  8.16516317e+00,  2.31974005e+01,\n",
       "        1.51710041e+01,  1.45893493e+01,  6.65995856e+00,  1.15871437e+01,\n",
       "        5.97859326e+00,  1.79189569e+01,  1.17077431e+01,  1.11629142e+01,\n",
       "        1.42194932e+01,  3.33835352e+00,  1.71697278e+01,  1.41814603e+01,\n",
       "        1.53642462e+01,  1.06104920e+01,  1.66575802e+01,  1.00815542e+01,\n",
       "        5.92429070e+00,  9.88667207e+00,  1.67899334e+01,  1.55125590e+01,\n",
       "        2.13281296e+01,  2.24604643e+01,  2.15226034e+01,  2.43346037e+01,\n",
       "        3.36905740e+00,  1.79288782e+01,  2.65728119e+01,  9.79154386e+00,\n",
       "        9.16974918e+00,  1.47474580e+01,  2.07326773e+01,  9.57965991e+00,\n",
       "        1.47794895e+01,  1.75337595e+01,  1.38881878e-01,  2.01242698e+01,\n",
       "        1.13725396e+01,  7.57343309e+00,  5.61708308e+00,  1.42363171e+01,\n",
       "        4.97280090e+00,  1.01310495e+01,  8.76330925e+00,  1.14090675e+01,\n",
       "        2.05018406e+01,  8.19563062e+00,  1.89884441e+01,  1.64720962e+01,\n",
       "        1.02672963e+01,  8.28924422e+00,  1.59390862e+01,  1.47465437e+01,\n",
       "        3.90898788e+00,  1.78866075e+01])"
      ]
     },
     "execution_count": 21,
     "metadata": {},
     "output_type": "execute_result"
    }
   ],
   "source": [
    "model_fit.predict(x_train)"
   ]
  },
  {
   "cell_type": "code",
   "execution_count": 35,
   "metadata": {},
   "outputs": [],
   "source": [
    "y_pred = lr.predict(x_test)"
   ]
  },
  {
   "cell_type": "code",
   "execution_count": 39,
   "metadata": {},
   "outputs": [
    {
     "name": "stdout",
     "output_type": "stream",
     "text": [
      "MSE test: 17.687\n",
      "R^2 test: 0.590\n"
     ]
    }
   ],
   "source": [
    "print('MSE test: %.3f' % (\n",
    "        #mean_squared_error(y_train, y_train_pred),\n",
    "        mean_squared_error(y_test, y_pred)))\n",
    "print('R^2 test: %.3f' % (\n",
    "      #  r2_score(y_train, y_train_pred),\n",
    "        r2_score(y_test, y_pred)))"
   ]
  },
  {
   "cell_type": "code",
   "execution_count": null,
   "metadata": {
    "collapsed": true
   },
   "outputs": [],
   "source": []
  }
 ],
 "metadata": {
  "kernelspec": {
   "display_name": "Python 3",
   "language": "python",
   "name": "python3"
  },
  "language_info": {
   "codemirror_mode": {
    "name": "ipython",
    "version": 3
   },
   "file_extension": ".py",
   "mimetype": "text/x-python",
   "name": "python",
   "nbconvert_exporter": "python",
   "pygments_lexer": "ipython3",
   "version": "3.6.3"
  }
 },
 "nbformat": 4,
 "nbformat_minor": 2
}
