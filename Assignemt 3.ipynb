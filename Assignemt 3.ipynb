{
 "cells": [
  {
   "cell_type": "markdown",
   "metadata": {},
   "source": [
    "# Write a function to compute 5/0 and use try/except to catch the exceptions."
   ]
  },
  {
   "cell_type": "code",
   "execution_count": 1,
   "metadata": {},
   "outputs": [
    {
     "name": "stdout",
     "output_type": "stream",
     "text": [
      "Error: denominator should be a number \n",
      "Finally, The program run successfully\n"
     ]
    }
   ],
   "source": [
    "try:\n",
    "    x = 5/0\n",
    "    print(\"The result is: \".format(x))\n",
    "except:\n",
    "    print(\"Error: denominator should be a number \")\n",
    "finally:\n",
    "    print(\"Finally, The program run successfully\")"
   ]
  },
  {
   "cell_type": "markdown",
   "metadata": {},
   "source": [
    "# Implement a Python program to generate all sentences where subject is in [\"Americans\", \"Indians\"] and verb is in [\"Play\", \"watch\"] and the object is in [\"Baseball\",\"cricket\"].\n",
    "\n",
    "Hint: Subject,Verb and Object should be declared in the program as shown below.\n",
    "subjects=[\"Americans \",\"Indians\"]\n",
    "verbs=[\"play\",\"watch\"]\n",
    "objects=[\"Baseball\",\"Cricket\"]"
   ]
  },
  {
   "cell_type": "code",
   "execution_count": 2,
   "metadata": {},
   "outputs": [
    {
     "name": "stdout",
     "output_type": "stream",
     "text": [
      "Americans  play Baseball\n",
      "Americans  play Cricket\n",
      "Americans  watch Baseball\n",
      "Americans  watch Cricket\n",
      "Indians play Baseball\n",
      "Indians play Cricket\n",
      "Indians watch Baseball\n",
      "Indians watch Cricket\n"
     ]
    }
   ],
   "source": [
    "subjects=[\"Americans \",\"Indians\"]\n",
    "verbs=[\"play\",\"watch\"]\n",
    "objects=[\"Baseball\",\"Cricket\"]\n",
    "for i in subjects:\n",
    "    for j in verbs:\n",
    "        for k in objects:\n",
    "            x = i+\" \"+j+\" \"+k\n",
    "            print(x)"
   ]
  },
  {
   "cell_type": "markdown",
   "metadata": {},
   "source": [
    "# Write a function so that the columns of the output matrix are powers of the input vector.\n",
    "\n",
    "The order of the powers is determined by the increasing boolean argument. Specifically, when\n",
    "increasing is False, the i-th output column is the input vector raised element-wise to the power\n",
    "of N - i - 1."
   ]
  },
  {
   "cell_type": "code",
   "execution_count": 80,
   "metadata": {},
   "outputs": [],
   "source": [
    "import numpy as np"
   ]
  },
  {
   "cell_type": "code",
   "execution_count": 83,
   "metadata": {},
   "outputs": [
    {
     "name": "stdout",
     "output_type": "stream",
     "text": [
      "Enter a number: 5\n",
      "[[   1    1    1    1    1]\n",
      " [   2    4    8   16   32]\n",
      " [   3    9   27   81  243]\n",
      " [   4   16   64  256 1024]\n",
      " [   5   25  125  625 3125]]\n"
     ]
    }
   ],
   "source": [
    "def matric():\n",
    "    a = np.array([1,2,3,4,5])\n",
    "    N = int(input(\"Enter a number: \"))\n",
    "    arr = []\n",
    "    for i in a:\n",
    "        for k in range(1,N+1):\n",
    "            arr.append(k**i)\n",
    "    \n",
    "    arr1 = np.array(arr)\n",
    "    arr2 = arr1.ra = np.array([1,2,3,4,5])\n",
    "print(len(a))eshape(5,5)\n",
    "    arr1_transpose = np.transpose(arr2)\n",
    "    print(arr1_transpose)\n",
    "matric()\n"
   ]
  },
  {
   "cell_type": "code",
   "execution_count": 88,
   "metadata": {},
   "outputs": [
    {
     "name": "stdout",
     "output_type": "stream",
     "text": [
      "Enter a number: 3\n",
      "[[  1   1   1   1   1]\n",
      " [  2   4   8  16  32]\n",
      " [  3   9  27  81 243]]\n"
     ]
    }
   ],
   "source": [
    "def matric():\n",
    "    a = np.array([1,2,3,4,5])\n",
    "    a1 = len(a)\n",
    "    N = int(input(\"Enter a number: \"))\n",
    "    arr = []\n",
    "    for i in a:\n",
    "        for k in range(1,N+1):\n",
    "            arr.append(k**i)\n",
    "    \n",
    "    arr1 = np.array(arr)\n",
    "    arr2 = arr1.ra = np.array([1,2,3,4,5])\n",
    "print(len(a))eshape(a1,N)\n",
    "    arr1_transpose = np.transpose(arr2)\n",
    "    print(arr1_transpose)\n",
    "matric()"
   ]
  },
  {
   "cell_type": "code",
   "execution_count": null,
   "metadata": {},
   "outputs": [],
   "source": []
  },
  {
   "cell_type": "code",
   "execution_count": null,
   "metadata": {},
   "outputs": [],
   "source": []
  }
 ],
 "metadata": {
  "kernelspec": {
   "display_name": "Python 3",
   "language": "python",
   "name": "python3"
  },
  "language_info": {
   "codemirror_mode": {
    "name": "ipython",
    "version": 3
   },
   "file_extension": ".py",
   "mimetype": "text/x-python",
   "name": "python",
   "nbconvert_exporter": "python",
   "pygments_lexer": "ipython3",
   "version": "3.6.8"
  }
 },
 "nbformat": 4,
 "nbformat_minor": 2
}
