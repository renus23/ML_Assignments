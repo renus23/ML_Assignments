{
 "cells": [
  {
   "cell_type": "markdown",
   "metadata": {},
   "source": [
    "# Write a Python Program to implement your own myreduce() function which works exactly like\n",
    "Python's built-in function reduce()"
   ]
  },
  {
   "cell_type": "code",
   "execution_count": 1,
   "metadata": {},
   "outputs": [
    {
     "name": "stdout",
     "output_type": "stream",
     "text": [
      "194\n"
     ]
    }
   ],
   "source": [
    "# Sum of sqaures of a list of numbers\n",
    "\n",
    "def my_square(x):\n",
    "    return  x**2\n",
    "lst1=[5,6,8,7,4,2]\n",
    "def my_reduce(my_sqare,l):\n",
    "    j=0\n",
    "    for i in l:\n",
    "        j = j + my_square(i)\n",
    "    print (j)\n",
    "    \n",
    "my_reduce(my_square,lst1)\n"
   ]
  },
  {
   "cell_type": "code",
   "execution_count": null,
   "metadata": {},
   "outputs": [],
   "source": [
    " "
   ]
  },
  {
   "cell_type": "code",
   "execution_count": 2,
   "metadata": {},
   "outputs": [
    {
     "name": "stdout",
     "output_type": "stream",
     "text": [
      "[27.23606797749979, 38.44948974278318, 66.82842712474618, 51.64575131106459, 18.0, 5.414213562373095]\n"
     ]
    }
   ],
   "source": [
    "# progem to print sum the squares and square root of of a list of numbers\n",
    "# not an assignment program- please check thie concept is right\n",
    "import math\n",
    "def my_sqrt(x):\n",
    "    return(math.sqrt(x))\n",
    "\n",
    "def my_square(x):\n",
    "    return  x**2\n",
    "lst1=[5,6,8,7,4,2]\n",
    "lst2 = []\n",
    "def my_map(my_sqare,my_sqrt,l):\n",
    "    for i in l:\n",
    "        x= my_square(i)+my_sqrt(i)\n",
    "        lst2.append(x)\n",
    "my_map(my_square,my_sqrt,lst1) \n",
    "print(lst2)"
   ]
  },
  {
   "cell_type": "markdown",
   "metadata": {},
   "source": [
    "# Write a Python program to implement your own myfilter() function which works exactly like\n",
    "Python's built-in function filter()"
   ]
  },
  {
   "cell_type": "code",
   "execution_count": 3,
   "metadata": {},
   "outputs": [
    {
     "name": "stdout",
     "output_type": "stream",
     "text": [
      "[None, 6, 8, None, 4, 2]\n"
     ]
    }
   ],
   "source": [
    "# Sum of sqaures of a list of numbers\n",
    "\n",
    "def my_square(x):\n",
    "    if x % 2 == 0:\n",
    "        return x\n",
    "           \n",
    "lst = []\n",
    "lst1=[5,6,8,7,4,2]\n",
    "def my_filter(my_sqare,l):\n",
    "    for i in l:\n",
    "        j= my_square(i)\n",
    "        lst.append(j)\n",
    "    print (lst)\n",
    "    \n",
    "my_filter(my_square,lst1)\n"
   ]
  },
  {
   "cell_type": "code",
   "execution_count": 4,
   "metadata": {},
   "outputs": [
    {
     "name": "stdout",
     "output_type": "stream",
     "text": [
      "[6, 8, 4, 2]\n"
     ]
    }
   ],
   "source": [
    "# Sum of sqaures of a list of numbers\n",
    "\n",
    "def my_square(x):\n",
    "    if x % 2 == 0:\n",
    "        return x\n",
    "lst = []\n",
    "lst1=[5,6,8,7,4,2]\n",
    "def my_filter(my_sqare,l):\n",
    "    for i in l:\n",
    "        j= my_square(i)\n",
    "        lst.append(j)\n",
    "    for k in lst:\n",
    "        if(k == None):\n",
    "            lst.remove(k)\n",
    "    print (lst)\n",
    "    \n",
    "my_filter(my_square,lst1)\n"
   ]
  },
  {
   "cell_type": "markdown",
   "metadata": {},
   "source": [
    "# Write List comprehensions to produce the following Lists\n",
    "['A', 'C', 'A', 'D', 'G', 'I', ’L’, ‘ D’]"
   ]
  },
  {
   "cell_type": "code",
   "execution_count": 5,
   "metadata": {},
   "outputs": [
    {
     "data": {
      "text/plain": [
       "['A', 'C', 'A', 'D', 'G', 'I', 'L', 'D']"
      ]
     },
     "execution_count": 5,
     "metadata": {},
     "output_type": "execute_result"
    }
   ],
   "source": [
    "ls1=list(map(lambda x : x , 'ACADGILD' ))\n",
    "ls1"
   ]
  },
  {
   "cell_type": "markdown",
   "metadata": {},
   "source": [
    "# ['x', 'xx', 'xxx', 'xxxx', 'y', 'yy', 'yyy', 'yyyy', 'z', 'zz', 'zzz', 'zzzz']"
   ]
  },
  {
   "cell_type": "code",
   "execution_count": 6,
   "metadata": {},
   "outputs": [
    {
     "name": "stdout",
     "output_type": "stream",
     "text": [
      "['x', 'xx', 'xxx', 'xxxx', 'y', 'yy', 'yyy', 'yyyy', 'z', 'zz', 'zzz', 'zzzz']\n"
     ]
    }
   ],
   "source": [
    "lst=['x','y','z']\n",
    "lst1=[]\n",
    "#k=1\n",
    "j=len(lst)\n",
    "for i in lst:\n",
    "    k=1\n",
    "    while(k<=j+1):\n",
    "        ls = i*k\n",
    "        lst1.append(ls)\n",
    "        k+=1\n",
    "print(lst1)       \n",
    "        "
   ]
  },
  {
   "cell_type": "markdown",
   "metadata": {},
   "source": [
    "# ['x', 'y', 'z', 'xx', 'yy', 'zz', 'xx', 'yy', 'zz', 'xxxx', 'yyyy', 'zzzz']"
   ]
  },
  {
   "cell_type": "code",
   "execution_count": 22,
   "metadata": {},
   "outputs": [
    {
     "name": "stdout",
     "output_type": "stream",
     "text": [
      "['x', 'y', 'z', 'xx', 'yy', 'zz', 'xxx', 'yyy', 'zzz', 'xxxx', 'yyyy', 'zzzz']\n"
     ]
    }
   ],
   "source": [
    "lst=['x','y','z']\n",
    "lst1=[]\n",
    "#k=1\n",
    "#j=len(lst)\n",
    "for j in range(1,5):\n",
    "    for i in lst:\n",
    "        lst1.append(i*j)    \n",
    "print(lst1)         "
   ]
  },
  {
   "cell_type": "markdown",
   "metadata": {},
   "source": [
    "# [[2], [3], [4], [3], [4], [5], [4], [5], [6]]"
   ]
  },
  {
   "cell_type": "code",
   "execution_count": 8,
   "metadata": {},
   "outputs": [
    {
     "name": "stdout",
     "output_type": "stream",
     "text": [
      "[[2], [3], [4], [3], [4], [5], [4], [5], [6]]\n"
     ]
    }
   ],
   "source": [
    "list1= [2,3,4,3,4,5,4,5,6]\n",
    "list2=[]\n",
    "\n",
    "[list2.append([i]) for i in list1]\n",
    "print(list2)"
   ]
  },
  {
   "cell_type": "markdown",
   "metadata": {},
   "source": [
    "# [[2, 3, 4, 5], [3, 4, 5, 6], [4, 5, 6, 7], [5, 6, 7, 8]]"
   ]
  },
  {
   "cell_type": "code",
   "execution_count": 9,
   "metadata": {},
   "outputs": [
    {
     "name": "stdout",
     "output_type": "stream",
     "text": [
      "[[2, 3, 4, 5], [3, 4, 5, 6], [4, 5, 6, 7], [5, 6, 7, 8]]\n"
     ]
    }
   ],
   "source": [
    "list1= [2,3,4,5,6,7,8]\n",
    "list2=[]\n",
    "i=0\n",
    "while(i<4):\n",
    "    list2.append(list1[i:i+4])\n",
    "    i+=1\n",
    "    #l1 = list(list1)\n",
    "print(list2)"
   ]
  },
  {
   "cell_type": "markdown",
   "metadata": {},
   "source": [
    "# [(1, 1), (2, 1), (3, 1), (1, 2), (2, 2), (3, 2), (1, 3), (2, 3), (3, 3)]"
   ]
  },
  {
   "cell_type": "code",
   "execution_count": 10,
   "metadata": {},
   "outputs": [
    {
     "name": "stdout",
     "output_type": "stream",
     "text": [
      "[(1, 1), (2, 1), (3, 1), (1, 2), (2, 2), (3, 2), (1, 3), (2, 3), (3, 3)]\n"
     ]
    }
   ],
   "source": [
    "list1_1 = []\n",
    "for i in range(1,4):\n",
    "    for j in range(1,4):\n",
    "        list1_1.append((j,i))\n",
    "print(list1_1)\n"
   ]
  },
  {
   "cell_type": "markdown",
   "metadata": {},
   "source": [
    "# Implement a function longestWord() that takes a list of words and returns the longest one."
   ]
  },
  {
   "cell_type": "code",
   "execution_count": 11,
   "metadata": {},
   "outputs": [
    {
     "name": "stdout",
     "output_type": "stream",
     "text": [
      "Enter a list of words\n",
      "cat\n",
      "computer\n",
      "window\n",
      "clock\n",
      "pineapple\n",
      "['cat', 'computer', 'window', 'clock', 'pineapple']\n",
      "Longest Word is:pineapple\n"
     ]
    }
   ],
   "source": [
    "def longestWord():\n",
    "    lst = []\n",
    "    print(\"Enter a list of words\")\n",
    "    for i in range(5):\n",
    "        i = input()\n",
    "        lst.append(i)\n",
    "    print(lst)\n",
    "    maxele = -1\n",
    "    for j in lst:\n",
    "        if len(j)>maxele:\n",
    "            maxele = len(j)\n",
    "            max_word = j\n",
    "    print(\"Longest Word is:{}\". format(max_word))\n",
    "    #print(max_word)\n",
    "    \n",
    "max_string = longestWord()    "
   ]
  },
  {
   "cell_type": "markdown",
   "metadata": {},
   "source": [
    "# Write a Python Program(with class concepts) to find the area of the triangle using the below\n",
    "formula.\n",
    "area = (s*(s-a)*(s-b)*(s-c)) ** 0.5\n",
    "Function to take the length of the sides of triangle from user should be defined in the parent\n",
    "class and function to calculate the area should be defined in subclass."
   ]
  },
  {
   "cell_type": "code",
   "execution_count": 12,
   "metadata": {},
   "outputs": [
    {
     "name": "stdout",
     "output_type": "stream",
     "text": [
      "Enter tha value of a: 3\n",
      "Enter tha value of b: 5\n",
      "Enter tha value of c: 6\n",
      "Area of a triangle: 28.0\n"
     ]
    }
   ],
   "source": [
    "class Triangle:\n",
    "    def __init__(self,a,b,c):\n",
    "        self.a= float(a)\n",
    "        self.b= float(b)\n",
    "        self.c=float(c)\n",
    "    \n",
    "    def area(self):\n",
    "        s = (self.a+self.b+self.c)/2\n",
    "        return(s*(s-self.a)*((s-self.b)*(s-self.c)))*0.5\n",
    "         \n",
    "\n",
    "a= float(input(\"Enter tha value of a: \"))\n",
    "b= float(input(\"Enter tha value of b: \"))\n",
    "c= float(input(\"Enter tha value of c: \"))\n",
    "tri = Triangle(a,b,c)\n",
    "print(\"Area of a triangle: {}\".format(tri.area()))"
   ]
  },
  {
   "cell_type": "markdown",
   "metadata": {},
   "source": [
    "\n",
    "# Write a function filter_long_words() that takes a list of words and an integer n and returns the list of words that are longer than n."
   ]
  },
  {
   "cell_type": "code",
   "execution_count": 13,
   "metadata": {},
   "outputs": [
    {
     "name": "stdout",
     "output_type": "stream",
     "text": [
      "Enter an integer: 3\n",
      "Enter a list of words\n",
      "cat\n",
      "computer\n",
      "python\n",
      "machine\n",
      "seroplane\n",
      "['cat', 'computer', 'python', 'machine', 'seroplane']\n",
      "['computer', 'python', 'machine', 'seroplane']\n"
     ]
    }
   ],
   "source": [
    "def filter_long_words(l):\n",
    "    lst = []\n",
    "    lst1 = []\n",
    "    print(\"Enter a list of words\")\n",
    "    for i in range(5):\n",
    "        i = input()\n",
    "        lst.append(i)\n",
    "    print(lst)\n",
    "    for j in lst:\n",
    "        l1 = len(j)\n",
    "        l2 = int(l1)\n",
    "        if  l <l2:\n",
    "           # print (j)\n",
    "            lst1.append(j)\n",
    "    print(lst1)\n",
    "n = input(\"Enter an integer: \")\n",
    "l = int(n)\n",
    "x = filter_long_words(l) "
   ]
  },
  {
   "cell_type": "markdown",
   "metadata": {},
   "source": [
    "# Write a Python program using function concept that maps list of words into a list of integers representing the lengths of the corresponding words"
   ]
  },
  {
   "cell_type": "code",
   "execution_count": 14,
   "metadata": {},
   "outputs": [
    {
     "name": "stdout",
     "output_type": "stream",
     "text": [
      "Enter a list of words\n",
      "rat\n",
      "cat\n",
      "computer\n",
      "keyboard\n",
      "mouse\n",
      "['rat', 'cat', 'computer', 'keyboard', 'mouse']\n",
      "[3, 3, 8, 8, 5]\n"
     ]
    }
   ],
   "source": [
    "def map_Words():\n",
    "    lst = []\n",
    "    lst1 = []\n",
    "    print(\"Enter a list of words\")\n",
    "    for i in range(5):\n",
    "        i = input()\n",
    "        lst.append(i)\n",
    "        lst1.append(len(i))\n",
    "    print(lst)\n",
    "    print(lst1)\n",
    "x= map_Words()"
   ]
  },
  {
   "cell_type": "markdown",
   "metadata": {},
   "source": [
    "# Write a Python function which takes a character (i.e. a string of length 1) and returns True if it is a vowel, False otherwise."
   ]
  },
  {
   "cell_type": "code",
   "execution_count": 36,
   "metadata": {},
   "outputs": [
    {
     "name": "stdout",
     "output_type": "stream",
     "text": [
      "Enter a character: q\n",
      "False\n"
     ]
    }
   ],
   "source": [
    "def check_vowel():\n",
    "    list_vowel = ['a','e','i','o','u']\n",
    "    str1 = input(\"Enter a character: \")\n",
    "    if str1 in list_vowel:\n",
    "        return True\n",
    "    else:\n",
    "        return False\n",
    "    \n",
    "s=check_vowel()\n",
    "print(s)\n",
    "    "
   ]
  },
  {
   "cell_type": "code",
   "execution_count": null,
   "metadata": {},
   "outputs": [],
   "source": []
  },
  {
   "cell_type": "code",
   "execution_count": null,
   "metadata": {},
   "outputs": [],
   "source": []
  }
 ],
 "metadata": {
  "kernelspec": {
   "display_name": "Python 3",
   "language": "python",
   "name": "python3"
  },
  "language_info": {
   "codemirror_mode": {
    "name": "ipython",
    "version": 3
   },
   "file_extension": ".py",
   "mimetype": "text/x-python",
   "name": "python",
   "nbconvert_exporter": "python",
   "pygments_lexer": "ipython3",
   "version": "3.6.8"
  }
 },
 "nbformat": 4,
 "nbformat_minor": 2
}
